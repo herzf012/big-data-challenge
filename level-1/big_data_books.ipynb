{
  "nbformat": 4,
  "nbformat_minor": 0,
  "metadata": {
    "colab": {
      "provenance": []
    },
    "kernelspec": {
      "name": "python3",
      "display_name": "Python 3"
    },
    "language_info": {
      "name": "python"
    }
  },
  "cells": [
    {
      "cell_type": "markdown",
      "source": [
        "# Import Dependences"
      ],
      "metadata": {
        "id": "_ipnIQO89Jpu"
      }
    },
    {
      "cell_type": "code",
      "execution_count": 1,
      "metadata": {
        "colab": {
          "base_uri": "https://localhost:8080/"
        },
        "id": "XWUDVTFy83NW",
        "outputId": "81c866b1-ac1b-4dd8-b998-6cfe4c72b526"
      },
      "outputs": [
        {
          "output_type": "stream",
          "name": "stdout",
          "text": [
            "\r0% [Working]\r            \rGet:1 https://cloud.r-project.org/bin/linux/ubuntu bionic-cran40/ InRelease [3,626 B]\n",
            "\r0% [Connecting to archive.ubuntu.com (185.125.190.36)] [Connecting to security.\r0% [Connecting to archive.ubuntu.com (185.125.190.36)] [Connecting to security.\r0% [1 InRelease gpgv 3,626 B] [Waiting for headers] [Connecting to security.ubu\r                                                                               \rIgn:2 https://developer.download.nvidia.com/compute/machine-learning/repos/ubuntu1804/x86_64  InRelease\n",
            "\r0% [1 InRelease gpgv 3,626 B] [Waiting for headers] [Connecting to security.ubu\r                                                                               \rGet:3 https://developer.download.nvidia.com/compute/cuda/repos/ubuntu1804/x86_64  InRelease [1,581 B]\n",
            "\r0% [1 InRelease gpgv 3,626 B] [Waiting for headers] [Connecting to security.ubu\r                                                                               \rHit:4 https://developer.download.nvidia.com/compute/machine-learning/repos/ubuntu1804/x86_64  Release\n",
            "Hit:5 http://archive.ubuntu.com/ubuntu bionic InRelease\n",
            "Hit:6 http://ppa.launchpad.net/c2d4u.team/c2d4u4.0+/ubuntu bionic InRelease\n",
            "Get:7 http://security.ubuntu.com/ubuntu bionic-security InRelease [88.7 kB]\n",
            "Get:8 http://archive.ubuntu.com/ubuntu bionic-updates InRelease [88.7 kB]\n",
            "Hit:9 http://ppa.launchpad.net/cran/libgit2/ubuntu bionic InRelease\n",
            "Hit:10 http://ppa.launchpad.net/deadsnakes/ppa/ubuntu bionic InRelease\n",
            "Get:11 http://archive.ubuntu.com/ubuntu bionic-backports InRelease [83.3 kB]\n",
            "Get:12 http://ppa.launchpad.net/graphics-drivers/ppa/ubuntu bionic InRelease [21.3 kB]\n",
            "Get:13 https://developer.download.nvidia.com/compute/cuda/repos/ubuntu1804/x86_64  Packages [1,038 kB]\n",
            "Get:15 http://security.ubuntu.com/ubuntu bionic-security/universe amd64 Packages [1,563 kB]\n",
            "Get:16 http://security.ubuntu.com/ubuntu bionic-security/main amd64 Packages [3,071 kB]\n",
            "Get:17 http://security.ubuntu.com/ubuntu bionic-security/restricted amd64 Packages [1,262 kB]\n",
            "Get:18 http://archive.ubuntu.com/ubuntu bionic-updates/main amd64 Packages [3,497 kB]\n",
            "Get:19 http://archive.ubuntu.com/ubuntu bionic-updates/universe amd64 Packages [2,338 kB]\n",
            "Get:20 http://archive.ubuntu.com/ubuntu bionic-updates/restricted amd64 Packages [1,303 kB]\n",
            "Get:21 http://ppa.launchpad.net/graphics-drivers/ppa/ubuntu bionic/main amd64 Packages [38.5 kB]\n",
            "Fetched 14.4 MB in 8s (1,700 kB/s)\n",
            "Reading package lists... Done\n"
          ]
        }
      ],
      "source": [
        "import os\n",
        "# Find the latest version of spark 3.2.x  from http://www.apache.org/dist/spark/ and enter as the spark version\n",
        "spark_version = 'spark-3.2.3'\n",
        "\n",
        "os.environ['SPARK_VERSION']=spark_version\n",
        "\n",
        "# Install Spark and Java\n",
        "!apt-get update\n",
        "!apt-get install openjdk-8-jdk-headless -qq > /dev/null\n",
        "!wget -q http://www.apache.org/dist/spark/$SPARK_VERSION/$SPARK_VERSION-bin-hadoop2.7.tgz\n",
        "!tar xf $SPARK_VERSION-bin-hadoop2.7.tgz\n",
        "!pip install -q findspark\n",
        "\n",
        "# Set Environment Variables\n",
        "os.environ[\"JAVA_HOME\"] = \"/usr/lib/jvm/java-8-openjdk-amd64\"\n",
        "os.environ[\"SPARK_HOME\"] = f\"/content/{spark_version}-bin-hadoop2.7\"\n",
        "\n",
        "# Start a SparkSession\n",
        "import findspark\n",
        "findspark.init()"
      ]
    },
    {
      "cell_type": "code",
      "source": [
        "# Install the PostgreSQL driver in our Colab environment\n",
        "!wget https://jdbc.postgresql.org/download/postgresql-42.2.9.jar"
      ],
      "metadata": {
        "colab": {
          "base_uri": "https://localhost:8080/"
        },
        "id": "NqeuUtz29EX_",
        "outputId": "c9776018-e6fa-486f-ad88-894068953089"
      },
      "execution_count": 2,
      "outputs": [
        {
          "output_type": "stream",
          "name": "stdout",
          "text": [
            "--2022-11-29 20:00:10--  https://jdbc.postgresql.org/download/postgresql-42.2.9.jar\n",
            "Resolving jdbc.postgresql.org (jdbc.postgresql.org)... 72.32.157.228, 2001:4800:3e1:1::228\n",
            "Connecting to jdbc.postgresql.org (jdbc.postgresql.org)|72.32.157.228|:443... connected.\n",
            "HTTP request sent, awaiting response... 200 OK\n",
            "Length: 914037 (893K) [application/java-archive]\n",
            "Saving to: ‘postgresql-42.2.9.jar’\n",
            "\n",
            "postgresql-42.2.9.j 100%[===================>] 892.61K  --.-KB/s    in 0.08s   \n",
            "\n",
            "2022-11-29 20:00:11 (10.5 MB/s) - ‘postgresql-42.2.9.jar’ saved [914037/914037]\n",
            "\n"
          ]
        }
      ]
    },
    {
      "cell_type": "code",
      "source": [
        "# Establish a Spark session and add the Postgres driver to the filepath\n",
        "from pyspark.sql import SparkSession\n",
        "spark = SparkSession.builder.appName(\"AMZreviews\").config(\"spark.driver.extraClassPath\",\"/content/postgresql-42.2.9.jar\").getOrCreate()"
      ],
      "metadata": {
        "id": "WpyBZFFt9GWc"
      },
      "execution_count": 3,
      "outputs": []
    },
    {
      "cell_type": "markdown",
      "source": [
        "# Extract Data"
      ],
      "metadata": {
        "id": "NR2tE12F9QJl"
      }
    },
    {
      "cell_type": "code",
      "source": [
        "# Read the first TSV.GZ file from an S3 bucket\n",
        "from pyspark import SparkFiles\n",
        "url = \"https://s3.amazonaws.com/amazon-reviews-pds/tsv/amazon_reviews_us_Books_v1_02.tsv.gz\"\n",
        "spark.sparkContext.addFile(url)\n",
        "books_df = spark.read.csv(SparkFiles.get(\"amazon_reviews_us_Books_v1_02.tsv.gz\"), sep=\"\\t\", header=True, inferSchema=True)\n",
        "\n",
        "# Show DataFrame\n",
        "books_df.show()"
      ],
      "metadata": {
        "colab": {
          "base_uri": "https://localhost:8080/"
        },
        "id": "sDQmk_4a9VXd",
        "outputId": "77348933-b97e-496f-8a2e-708f6738d007"
      },
      "execution_count": 4,
      "outputs": [
        {
          "output_type": "stream",
          "name": "stdout",
          "text": [
            "+-----------+-----------+--------------+----------+--------------+--------------------+----------------+-----------+-------------+-----------+----+-----------------+--------------------+--------------------+-----------+\n",
            "|marketplace|customer_id|     review_id|product_id|product_parent|       product_title|product_category|star_rating|helpful_votes|total_votes|vine|verified_purchase|     review_headline|         review_body|review_date|\n",
            "+-----------+-----------+--------------+----------+--------------+--------------------+----------------+-----------+-------------+-----------+----+-----------------+--------------------+--------------------+-----------+\n",
            "|         US|   12076615| RQ58W7SMO911M|0385730586|     122662979|Sisterhood of the...|           Books|          4|            2|          3|   N|                N|this book was a g...|this boook was a ...| 2005-10-14|\n",
            "|         US|   12703090|  RF6IUKMGL8SF|0811828964|      56191234|The Bad Girl's Gu...|           Books|          3|            5|          5|   N|                N|           Fun Fluff|If you are lookin...| 2005-10-14|\n",
            "|         US|   12257412|R1DOSHH6AI622S|1844161560|     253182049|Eisenhorn (A Warh...|           Books|          4|            1|         22|   N|                N| this isn't a review|never read it-a y...| 2005-10-14|\n",
            "|         US|   50732546| RATOTLA3OF70O|0373836635|     348672532|Colby Conspiracy ...|           Books|          5|            2|          2|   N|                N|fine author on he...|Though she is hon...| 2005-10-14|\n",
            "|         US|   51964897|R1TNWRKIVHVYOV|0262181533|     598678717|The Psychology of...|           Books|          4|            0|          2|   N|                N|Execellent cursor...|Review based on a...| 2005-10-14|\n",
            "|         US|   31048862|R2F53LI9KK9MOY|0316769487|     862964341|The Catcher in th...|           Books|          4|            2|          2|   N|                N|   Interesting, fun.|My only complaint...| 2005-10-14|\n",
            "|         US|   53000124|R1KJ6MB7MRSQFF|0805076069|     145341889|Bait and Switch: ...|           Books|          4|            9|         11|   N|                N|I viewed this the...|This book is chil...| 2005-10-14|\n",
            "|         US|   29732693|R2XIM9LT335WHE|1581603681|     640542054|Opening Combinati...|           Books|          4|            3|         10|   N|                N|No Frills - Just ...|When looking for ...| 2005-10-14|\n",
            "|         US|   48541186|R1VE0FQQ0QTQJN|0300108834|     915891133|A Little History ...|           Books|          5|           16|         20|   N|                Y|Simple, entertain...|Never been much f...| 2005-10-14|\n",
            "|         US|   15280864|R1VKEE2NWSWDRU|0446531081|     880645124|Hour Game (King &...|           Books|          4|            0|          0|   N|                N|        A good read!|If you enjoy a we...| 2005-10-14|\n",
            "|         US|   24209213|R2UP6XSVYJBJ2H|0976822105|     731931430|     Faith is a Verb|           Books|          5|            0|          0|   N|                N|Made me Question ...|I thoroughly enjo...| 2005-10-14|\n",
            "|         US|   52253037|R21SYDQ70ILUC0|1580085695|     586052746|Furry Logic: A Gu...|           Books|          5|            1|          1|   N|                Y|    The Perfect Gift|If you are stumpe...| 2005-10-14|\n",
            "|         US|   27925116| R7M06Z88PD7SX|0029148510|      72387289|Acts of War: Beha...|           Books|          4|           14|         14|   N|                N|Solid Book About ...|Whether intention...| 2005-10-14|\n",
            "|         US|   15005044| RRS38KZ4WB5O2|1592285570|     702385650|Temple to the Win...|           Books|          5|            1|          1|   N|                N|A riveting accoun...|Temple to the win...| 2005-10-14|\n",
            "|         US|   52534781|R2YDYRSLGNHPHR|0811848833|     102333549|The Star Wars Pos...|           Books|          4|           16|         19|   N|                Y|Comprehensive vis...|At last... a comp...| 2005-10-14|\n",
            "|         US|   26217071|R1BMPM18O6VZOR|0782144276|     971452783|Photoshop for Nat...|           Books|          4|           13|         14|   N|                N|          Great Book|I find \\\\\"Photosh...| 2005-10-14|\n",
            "|         US|   37684582|R1AABFZH0J0C0C|0375757996|     760991156|The Basic Works o...|           Books|          3|           17|         35|   N|                N|Problems with thi...|I love Aristotle ...| 2005-10-14|\n",
            "|         US|   45232107|R3SJYLG07EHNE9|013146308X|     332774292|The Pterosaurs: F...|           Books|          2|           16|         34|   N|                N|Warmed over lefto...|To his discredit,...| 2005-10-14|\n",
            "|         US|   15437121|R2TIO43ND87XVO|0375701907|     635714194|Straight Man: A N...|           Books|          5|            1|          1|   N|                N|       Funniest Book|Hands down, the f...| 2005-10-14|\n",
            "|         US|   52157117|R18TY4WD19OUAO|141378240X|     656010659|   Lipstick's Legacy|           Books|          5|            1|          1|   N|                N|          Great Work|I read this book ...| 2005-10-14|\n",
            "+-----------+-----------+--------------+----------+--------------+--------------------+----------------+-----------+-------------+-----------+----+-----------------+--------------------+--------------------+-----------+\n",
            "only showing top 20 rows\n",
            "\n"
          ]
        }
      ]
    },
    {
      "cell_type": "code",
      "source": [
        "# Count the amount of rows in the dataset\n",
        "print(f\"Rows in dataset: {books_df.count()}\")"
      ],
      "metadata": {
        "colab": {
          "base_uri": "https://localhost:8080/"
        },
        "id": "4mp5KRlr9ZWQ",
        "outputId": "329f1081-c8e3-4391-c5f3-c42cbe54c59b"
      },
      "execution_count": 5,
      "outputs": [
        {
          "output_type": "stream",
          "name": "stdout",
          "text": [
            "Rows in dataset: 3105520\n"
          ]
        }
      ]
    },
    {
      "cell_type": "markdown",
      "source": [
        "# Transform Data"
      ],
      "metadata": {
        "id": "8lUHnCTg9azM"
      }
    },
    {
      "cell_type": "code",
      "source": [
        "# Count the amount of distinct rows in the dataset to find duplicates\n",
        "print(f\"Distinct rows in dataset: {books_df.distinct().count()}\")"
      ],
      "metadata": {
        "colab": {
          "base_uri": "https://localhost:8080/"
        },
        "id": "Zf5YWcHJ9dOh",
        "outputId": "301a9763-7d52-4992-c917-0c58046a74e6"
      },
      "execution_count": 6,
      "outputs": [
        {
          "output_type": "stream",
          "name": "stdout",
          "text": [
            "Distinct rows in dataset: 3105520\n"
          ]
        }
      ]
    },
    {
      "cell_type": "code",
      "source": [
        "# Drop unnecessary columns\n",
        "books_df = books_df.drop(\"marketplace\", \"product_category\", \"verified_purchase\", \"review_headline\", \"review_body\")\n",
        "\n",
        "books_df.show()"
      ],
      "metadata": {
        "colab": {
          "base_uri": "https://localhost:8080/"
        },
        "id": "FnEwrGju9fat",
        "outputId": "4aa1bcf7-f296-4cbf-b4e7-e576f5e7760d"
      },
      "execution_count": 7,
      "outputs": [
        {
          "output_type": "stream",
          "name": "stdout",
          "text": [
            "+-----------+--------------+----------+--------------+--------------------+-----------+-------------+-----------+----+-----------+\n",
            "|customer_id|     review_id|product_id|product_parent|       product_title|star_rating|helpful_votes|total_votes|vine|review_date|\n",
            "+-----------+--------------+----------+--------------+--------------------+-----------+-------------+-----------+----+-----------+\n",
            "|   12076615| RQ58W7SMO911M|0385730586|     122662979|Sisterhood of the...|          4|            2|          3|   N| 2005-10-14|\n",
            "|   12703090|  RF6IUKMGL8SF|0811828964|      56191234|The Bad Girl's Gu...|          3|            5|          5|   N| 2005-10-14|\n",
            "|   12257412|R1DOSHH6AI622S|1844161560|     253182049|Eisenhorn (A Warh...|          4|            1|         22|   N| 2005-10-14|\n",
            "|   50732546| RATOTLA3OF70O|0373836635|     348672532|Colby Conspiracy ...|          5|            2|          2|   N| 2005-10-14|\n",
            "|   51964897|R1TNWRKIVHVYOV|0262181533|     598678717|The Psychology of...|          4|            0|          2|   N| 2005-10-14|\n",
            "|   31048862|R2F53LI9KK9MOY|0316769487|     862964341|The Catcher in th...|          4|            2|          2|   N| 2005-10-14|\n",
            "|   53000124|R1KJ6MB7MRSQFF|0805076069|     145341889|Bait and Switch: ...|          4|            9|         11|   N| 2005-10-14|\n",
            "|   29732693|R2XIM9LT335WHE|1581603681|     640542054|Opening Combinati...|          4|            3|         10|   N| 2005-10-14|\n",
            "|   48541186|R1VE0FQQ0QTQJN|0300108834|     915891133|A Little History ...|          5|           16|         20|   N| 2005-10-14|\n",
            "|   15280864|R1VKEE2NWSWDRU|0446531081|     880645124|Hour Game (King &...|          4|            0|          0|   N| 2005-10-14|\n",
            "|   24209213|R2UP6XSVYJBJ2H|0976822105|     731931430|     Faith is a Verb|          5|            0|          0|   N| 2005-10-14|\n",
            "|   52253037|R21SYDQ70ILUC0|1580085695|     586052746|Furry Logic: A Gu...|          5|            1|          1|   N| 2005-10-14|\n",
            "|   27925116| R7M06Z88PD7SX|0029148510|      72387289|Acts of War: Beha...|          4|           14|         14|   N| 2005-10-14|\n",
            "|   15005044| RRS38KZ4WB5O2|1592285570|     702385650|Temple to the Win...|          5|            1|          1|   N| 2005-10-14|\n",
            "|   52534781|R2YDYRSLGNHPHR|0811848833|     102333549|The Star Wars Pos...|          4|           16|         19|   N| 2005-10-14|\n",
            "|   26217071|R1BMPM18O6VZOR|0782144276|     971452783|Photoshop for Nat...|          4|           13|         14|   N| 2005-10-14|\n",
            "|   37684582|R1AABFZH0J0C0C|0375757996|     760991156|The Basic Works o...|          3|           17|         35|   N| 2005-10-14|\n",
            "|   45232107|R3SJYLG07EHNE9|013146308X|     332774292|The Pterosaurs: F...|          2|           16|         34|   N| 2005-10-14|\n",
            "|   15437121|R2TIO43ND87XVO|0375701907|     635714194|Straight Man: A N...|          5|            1|          1|   N| 2005-10-14|\n",
            "|   52157117|R18TY4WD19OUAO|141378240X|     656010659|   Lipstick's Legacy|          5|            1|          1|   N| 2005-10-14|\n",
            "+-----------+--------------+----------+--------------+--------------------+-----------+-------------+-----------+----+-----------+\n",
            "only showing top 20 rows\n",
            "\n"
          ]
        }
      ]
    },
    {
      "cell_type": "code",
      "source": [
        "# Find unique customer_id counts\n",
        "print(f\"Unique customer_id counts: {books_df.select('customer_id').distinct().count()}\")"
      ],
      "metadata": {
        "colab": {
          "base_uri": "https://localhost:8080/"
        },
        "id": "sLi8vMKl9hJk",
        "outputId": "768833bb-6386-4956-9a2d-d29d7a68aeac"
      },
      "execution_count": 8,
      "outputs": [
        {
          "output_type": "stream",
          "name": "stdout",
          "text": [
            "Unique customer_id counts: 1502380\n"
          ]
        }
      ]
    },
    {
      "cell_type": "code",
      "source": [
        "# Find instances of each customer_id\n",
        "customer_id_count_df = books_df.groupBy('customer_id').count()\n",
        "\n",
        "books_df.show()"
      ],
      "metadata": {
        "colab": {
          "base_uri": "https://localhost:8080/"
        },
        "id": "1GcCwMc69kpG",
        "outputId": "f49b8a75-4eb0-4185-b579-688096762790"
      },
      "execution_count": 9,
      "outputs": [
        {
          "output_type": "stream",
          "name": "stdout",
          "text": [
            "+-----------+--------------+----------+--------------+--------------------+-----------+-------------+-----------+----+-----------+\n",
            "|customer_id|     review_id|product_id|product_parent|       product_title|star_rating|helpful_votes|total_votes|vine|review_date|\n",
            "+-----------+--------------+----------+--------------+--------------------+-----------+-------------+-----------+----+-----------+\n",
            "|   12076615| RQ58W7SMO911M|0385730586|     122662979|Sisterhood of the...|          4|            2|          3|   N| 2005-10-14|\n",
            "|   12703090|  RF6IUKMGL8SF|0811828964|      56191234|The Bad Girl's Gu...|          3|            5|          5|   N| 2005-10-14|\n",
            "|   12257412|R1DOSHH6AI622S|1844161560|     253182049|Eisenhorn (A Warh...|          4|            1|         22|   N| 2005-10-14|\n",
            "|   50732546| RATOTLA3OF70O|0373836635|     348672532|Colby Conspiracy ...|          5|            2|          2|   N| 2005-10-14|\n",
            "|   51964897|R1TNWRKIVHVYOV|0262181533|     598678717|The Psychology of...|          4|            0|          2|   N| 2005-10-14|\n",
            "|   31048862|R2F53LI9KK9MOY|0316769487|     862964341|The Catcher in th...|          4|            2|          2|   N| 2005-10-14|\n",
            "|   53000124|R1KJ6MB7MRSQFF|0805076069|     145341889|Bait and Switch: ...|          4|            9|         11|   N| 2005-10-14|\n",
            "|   29732693|R2XIM9LT335WHE|1581603681|     640542054|Opening Combinati...|          4|            3|         10|   N| 2005-10-14|\n",
            "|   48541186|R1VE0FQQ0QTQJN|0300108834|     915891133|A Little History ...|          5|           16|         20|   N| 2005-10-14|\n",
            "|   15280864|R1VKEE2NWSWDRU|0446531081|     880645124|Hour Game (King &...|          4|            0|          0|   N| 2005-10-14|\n",
            "|   24209213|R2UP6XSVYJBJ2H|0976822105|     731931430|     Faith is a Verb|          5|            0|          0|   N| 2005-10-14|\n",
            "|   52253037|R21SYDQ70ILUC0|1580085695|     586052746|Furry Logic: A Gu...|          5|            1|          1|   N| 2005-10-14|\n",
            "|   27925116| R7M06Z88PD7SX|0029148510|      72387289|Acts of War: Beha...|          4|           14|         14|   N| 2005-10-14|\n",
            "|   15005044| RRS38KZ4WB5O2|1592285570|     702385650|Temple to the Win...|          5|            1|          1|   N| 2005-10-14|\n",
            "|   52534781|R2YDYRSLGNHPHR|0811848833|     102333549|The Star Wars Pos...|          4|           16|         19|   N| 2005-10-14|\n",
            "|   26217071|R1BMPM18O6VZOR|0782144276|     971452783|Photoshop for Nat...|          4|           13|         14|   N| 2005-10-14|\n",
            "|   37684582|R1AABFZH0J0C0C|0375757996|     760991156|The Basic Works o...|          3|           17|         35|   N| 2005-10-14|\n",
            "|   45232107|R3SJYLG07EHNE9|013146308X|     332774292|The Pterosaurs: F...|          2|           16|         34|   N| 2005-10-14|\n",
            "|   15437121|R2TIO43ND87XVO|0375701907|     635714194|Straight Man: A N...|          5|            1|          1|   N| 2005-10-14|\n",
            "|   52157117|R18TY4WD19OUAO|141378240X|     656010659|   Lipstick's Legacy|          5|            1|          1|   N| 2005-10-14|\n",
            "+-----------+--------------+----------+--------------+--------------------+-----------+-------------+-----------+----+-----------+\n",
            "only showing top 20 rows\n",
            "\n"
          ]
        }
      ]
    },
    {
      "cell_type": "code",
      "source": [
        "# Join count to original dataframe\n",
        "books_df = books_df.join(customer_id_count_df, books_df.customer_id == customer_id_count_df.customer_id, \"left\").drop(books_df.customer_id)\n",
        "books_df.show()"
      ],
      "metadata": {
        "colab": {
          "base_uri": "https://localhost:8080/"
        },
        "id": "58Tm-ji19m5-",
        "outputId": "d13a7158-f81c-49c7-bb5e-d1c543c25669"
      },
      "execution_count": 10,
      "outputs": [
        {
          "output_type": "stream",
          "name": "stdout",
          "text": [
            "+--------------+----------+--------------+--------------------+-----------+-------------+-----------+----+-----------+-----------+-----+\n",
            "|     review_id|product_id|product_parent|       product_title|star_rating|helpful_votes|total_votes|vine|review_date|customer_id|count|\n",
            "+--------------+----------+--------------+--------------------+-----------+-------------+-----------+----+-----------+-----------+-----+\n",
            "|R1DOSHH6AI622S|1844161560|     253182049|Eisenhorn (A Warh...|          4|            1|         22|   N| 2005-10-14|   12257412|    1|\n",
            "|  RF6IUKMGL8SF|0811828964|      56191234|The Bad Girl's Gu...|          3|            5|          5|   N| 2005-10-14|   12703090|    1|\n",
            "|R2TIO43ND87XVO|0375701907|     635714194|Straight Man: A N...|          5|            1|          1|   N| 2005-10-14|   15437121|    1|\n",
            "| R7M06Z88PD7SX|0029148510|      72387289|Acts of War: Beha...|          4|           14|         14|   N| 2005-10-14|   27925116|    9|\n",
            "|R2F53LI9KK9MOY|0316769487|     862964341|The Catcher in th...|          4|            2|          2|   N| 2005-10-14|   31048862|    2|\n",
            "|R3SJYLG07EHNE9|013146308X|     332774292|The Pterosaurs: F...|          2|           16|         34|   N| 2005-10-14|   45232107|    1|\n",
            "|R1VE0FQQ0QTQJN|0300108834|     915891133|A Little History ...|          5|           16|         20|   N| 2005-10-14|   48541186|    1|\n",
            "| RATOTLA3OF70O|0373836635|     348672532|Colby Conspiracy ...|          5|            2|          2|   N| 2005-10-14|   50732546| 9964|\n",
            "|R17026W0TBFZGL|045121692X|     904844135|The Last Heiress ...|          5|            1|          2|   N| 2005-10-14|   50732546| 9964|\n",
            "|R18TY4WD19OUAO|141378240X|     656010659|   Lipstick's Legacy|          5|            1|          1|   N| 2005-10-14|   52157117|    2|\n",
            "|R21SYDQ70ILUC0|1580085695|     586052746|Furry Logic: A Gu...|          5|            1|          1|   N| 2005-10-14|   52253037|    1|\n",
            "|R2YDYRSLGNHPHR|0811848833|     102333549|The Star Wars Pos...|          4|           16|         19|   N| 2005-10-14|   52534781|    1|\n",
            "| RQ58W7SMO911M|0385730586|     122662979|Sisterhood of the...|          4|            2|          3|   N| 2005-10-14|   12076615|    1|\n",
            "| RRS38KZ4WB5O2|1592285570|     702385650|Temple to the Win...|          5|            1|          1|   N| 2005-10-14|   15005044|    1|\n",
            "|R1VKEE2NWSWDRU|0446531081|     880645124|Hour Game (King &...|          4|            0|          0|   N| 2005-10-14|   15280864|    1|\n",
            "|R2UP6XSVYJBJ2H|0976822105|     731931430|     Faith is a Verb|          5|            0|          0|   N| 2005-10-14|   24209213|    1|\n",
            "|R1BMPM18O6VZOR|0782144276|     971452783|Photoshop for Nat...|          4|           13|         14|   N| 2005-10-14|   26217071|    1|\n",
            "|R2XIM9LT335WHE|1581603681|     640542054|Opening Combinati...|          4|            3|         10|   N| 2005-10-14|   29732693|    1|\n",
            "|R1AABFZH0J0C0C|0375757996|     760991156|The Basic Works o...|          3|           17|         35|   N| 2005-10-14|   37684582|    1|\n",
            "|R1TNWRKIVHVYOV|0262181533|     598678717|The Psychology of...|          4|            0|          2|   N| 2005-10-14|   51964897|    8|\n",
            "+--------------+----------+--------------+--------------------+-----------+-------------+-----------+----+-----------+-----------+-----+\n",
            "only showing top 20 rows\n",
            "\n"
          ]
        }
      ]
    },
    {
      "cell_type": "code",
      "source": [
        "# Ensure rows are preserved\n",
        "print(books_df.count())"
      ],
      "metadata": {
        "colab": {
          "base_uri": "https://localhost:8080/"
        },
        "id": "qXLZQfaf9nyf",
        "outputId": "ec279b05-2486-4dc8-d9d7-a48aeed1e3e8"
      },
      "execution_count": 11,
      "outputs": [
        {
          "output_type": "stream",
          "name": "stdout",
          "text": [
            "3105520\n"
          ]
        }
      ]
    },
    {
      "cell_type": "code",
      "source": [
        "# Rename count column\n",
        "books_df = books_df.withColumnRenamed(\"count\", \"customer_count\")\n",
        "books_df.show()"
      ],
      "metadata": {
        "colab": {
          "base_uri": "https://localhost:8080/"
        },
        "id": "wpdlsSI-9p34",
        "outputId": "8ada6205-95f4-46b4-bdfc-87d0d40937b5"
      },
      "execution_count": 12,
      "outputs": [
        {
          "output_type": "stream",
          "name": "stdout",
          "text": [
            "+--------------+----------+--------------+--------------------+-----------+-------------+-----------+----+-----------+-----------+--------------+\n",
            "|     review_id|product_id|product_parent|       product_title|star_rating|helpful_votes|total_votes|vine|review_date|customer_id|customer_count|\n",
            "+--------------+----------+--------------+--------------------+-----------+-------------+-----------+----+-----------+-----------+--------------+\n",
            "|R1DOSHH6AI622S|1844161560|     253182049|Eisenhorn (A Warh...|          4|            1|         22|   N| 2005-10-14|   12257412|             1|\n",
            "|  RF6IUKMGL8SF|0811828964|      56191234|The Bad Girl's Gu...|          3|            5|          5|   N| 2005-10-14|   12703090|             1|\n",
            "|R2TIO43ND87XVO|0375701907|     635714194|Straight Man: A N...|          5|            1|          1|   N| 2005-10-14|   15437121|             1|\n",
            "| R7M06Z88PD7SX|0029148510|      72387289|Acts of War: Beha...|          4|           14|         14|   N| 2005-10-14|   27925116|             9|\n",
            "|R2F53LI9KK9MOY|0316769487|     862964341|The Catcher in th...|          4|            2|          2|   N| 2005-10-14|   31048862|             2|\n",
            "|R3SJYLG07EHNE9|013146308X|     332774292|The Pterosaurs: F...|          2|           16|         34|   N| 2005-10-14|   45232107|             1|\n",
            "|R1VE0FQQ0QTQJN|0300108834|     915891133|A Little History ...|          5|           16|         20|   N| 2005-10-14|   48541186|             1|\n",
            "| RATOTLA3OF70O|0373836635|     348672532|Colby Conspiracy ...|          5|            2|          2|   N| 2005-10-14|   50732546|          9964|\n",
            "|R17026W0TBFZGL|045121692X|     904844135|The Last Heiress ...|          5|            1|          2|   N| 2005-10-14|   50732546|          9964|\n",
            "|R18TY4WD19OUAO|141378240X|     656010659|   Lipstick's Legacy|          5|            1|          1|   N| 2005-10-14|   52157117|             2|\n",
            "|R21SYDQ70ILUC0|1580085695|     586052746|Furry Logic: A Gu...|          5|            1|          1|   N| 2005-10-14|   52253037|             1|\n",
            "|R2YDYRSLGNHPHR|0811848833|     102333549|The Star Wars Pos...|          4|           16|         19|   N| 2005-10-14|   52534781|             1|\n",
            "| RQ58W7SMO911M|0385730586|     122662979|Sisterhood of the...|          4|            2|          3|   N| 2005-10-14|   12076615|             1|\n",
            "| RRS38KZ4WB5O2|1592285570|     702385650|Temple to the Win...|          5|            1|          1|   N| 2005-10-14|   15005044|             1|\n",
            "|R1VKEE2NWSWDRU|0446531081|     880645124|Hour Game (King &...|          4|            0|          0|   N| 2005-10-14|   15280864|             1|\n",
            "|R2UP6XSVYJBJ2H|0976822105|     731931430|     Faith is a Verb|          5|            0|          0|   N| 2005-10-14|   24209213|             1|\n",
            "|R1BMPM18O6VZOR|0782144276|     971452783|Photoshop for Nat...|          4|           13|         14|   N| 2005-10-14|   26217071|             1|\n",
            "|R2XIM9LT335WHE|1581603681|     640542054|Opening Combinati...|          4|            3|         10|   N| 2005-10-14|   29732693|             1|\n",
            "|R1AABFZH0J0C0C|0375757996|     760991156|The Basic Works o...|          3|           17|         35|   N| 2005-10-14|   37684582|             1|\n",
            "|R1TNWRKIVHVYOV|0262181533|     598678717|The Psychology of...|          4|            0|          2|   N| 2005-10-14|   51964897|             8|\n",
            "+--------------+----------+--------------+--------------------+-----------+-------------+-----------+----+-----------+-----------+--------------+\n",
            "only showing top 20 rows\n",
            "\n"
          ]
        }
      ]
    },
    {
      "cell_type": "code",
      "source": [
        "# Check data types\n",
        "books_df.printSchema()"
      ],
      "metadata": {
        "colab": {
          "base_uri": "https://localhost:8080/"
        },
        "id": "zOF7gp8p9rsk",
        "outputId": "61ce1998-9a74-4303-dea0-23e147f0cdf2"
      },
      "execution_count": 13,
      "outputs": [
        {
          "output_type": "stream",
          "name": "stdout",
          "text": [
            "root\n",
            " |-- review_id: string (nullable = true)\n",
            " |-- product_id: string (nullable = true)\n",
            " |-- product_parent: integer (nullable = true)\n",
            " |-- product_title: string (nullable = true)\n",
            " |-- star_rating: integer (nullable = true)\n",
            " |-- helpful_votes: integer (nullable = true)\n",
            " |-- total_votes: integer (nullable = true)\n",
            " |-- vine: string (nullable = true)\n",
            " |-- review_date: string (nullable = true)\n",
            " |-- customer_id: integer (nullable = true)\n",
            " |-- customer_count: long (nullable = true)\n",
            "\n"
          ]
        }
      ]
    },
    {
      "cell_type": "code",
      "source": [
        "# Cast customer_count to integer\n",
        "books_df = books_df.withColumn(\"customer_count\", books_df.customer_count.cast(\"integer\"))\n",
        "books_df.printSchema()"
      ],
      "metadata": {
        "colab": {
          "base_uri": "https://localhost:8080/"
        },
        "id": "leQQxp0U9tzX",
        "outputId": "fe106b91-dcbd-43fb-898c-af0df6498042"
      },
      "execution_count": 14,
      "outputs": [
        {
          "output_type": "stream",
          "name": "stdout",
          "text": [
            "root\n",
            " |-- review_id: string (nullable = true)\n",
            " |-- product_id: string (nullable = true)\n",
            " |-- product_parent: integer (nullable = true)\n",
            " |-- product_title: string (nullable = true)\n",
            " |-- star_rating: integer (nullable = true)\n",
            " |-- helpful_votes: integer (nullable = true)\n",
            " |-- total_votes: integer (nullable = true)\n",
            " |-- vine: string (nullable = true)\n",
            " |-- review_date: string (nullable = true)\n",
            " |-- customer_id: integer (nullable = true)\n",
            " |-- customer_count: integer (nullable = true)\n",
            "\n"
          ]
        }
      ]
    },
    {
      "cell_type": "code",
      "source": [
        "# Create review_id dataframe for review_id_table in our database\n",
        "review_id_df = books_df.select(['review_id', 'customer_id', 'product_id', 'product_parent', 'review_date'])\n",
        "review_id_df.show() "
      ],
      "metadata": {
        "colab": {
          "base_uri": "https://localhost:8080/"
        },
        "id": "swZuZTm-9xBs",
        "outputId": "57809641-0c2c-4b4e-ee31-efd80fd68215"
      },
      "execution_count": 15,
      "outputs": [
        {
          "output_type": "stream",
          "name": "stdout",
          "text": [
            "+--------------+-----------+----------+--------------+-----------+\n",
            "|     review_id|customer_id|product_id|product_parent|review_date|\n",
            "+--------------+-----------+----------+--------------+-----------+\n",
            "|R1DOSHH6AI622S|   12257412|1844161560|     253182049| 2005-10-14|\n",
            "|  RF6IUKMGL8SF|   12703090|0811828964|      56191234| 2005-10-14|\n",
            "|R2TIO43ND87XVO|   15437121|0375701907|     635714194| 2005-10-14|\n",
            "| R7M06Z88PD7SX|   27925116|0029148510|      72387289| 2005-10-14|\n",
            "|R2F53LI9KK9MOY|   31048862|0316769487|     862964341| 2005-10-14|\n",
            "|R3SJYLG07EHNE9|   45232107|013146308X|     332774292| 2005-10-14|\n",
            "|R1VE0FQQ0QTQJN|   48541186|0300108834|     915891133| 2005-10-14|\n",
            "| RATOTLA3OF70O|   50732546|0373836635|     348672532| 2005-10-14|\n",
            "|R17026W0TBFZGL|   50732546|045121692X|     904844135| 2005-10-14|\n",
            "|R18TY4WD19OUAO|   52157117|141378240X|     656010659| 2005-10-14|\n",
            "|R21SYDQ70ILUC0|   52253037|1580085695|     586052746| 2005-10-14|\n",
            "|R2YDYRSLGNHPHR|   52534781|0811848833|     102333549| 2005-10-14|\n",
            "| RQ58W7SMO911M|   12076615|0385730586|     122662979| 2005-10-14|\n",
            "| RRS38KZ4WB5O2|   15005044|1592285570|     702385650| 2005-10-14|\n",
            "|R1VKEE2NWSWDRU|   15280864|0446531081|     880645124| 2005-10-14|\n",
            "|R2UP6XSVYJBJ2H|   24209213|0976822105|     731931430| 2005-10-14|\n",
            "|R1BMPM18O6VZOR|   26217071|0782144276|     971452783| 2005-10-14|\n",
            "|R2XIM9LT335WHE|   29732693|1581603681|     640542054| 2005-10-14|\n",
            "|R1AABFZH0J0C0C|   37684582|0375757996|     760991156| 2005-10-14|\n",
            "|R1TNWRKIVHVYOV|   51964897|0262181533|     598678717| 2005-10-14|\n",
            "+--------------+-----------+----------+--------------+-----------+\n",
            "only showing top 20 rows\n",
            "\n"
          ]
        }
      ]
    },
    {
      "cell_type": "code",
      "source": [
        "# Create products dataframe for products in our database\n",
        "products_df = books_df.select(['product_id', 'product_title'])\n",
        "products_df.show()"
      ],
      "metadata": {
        "colab": {
          "base_uri": "https://localhost:8080/"
        },
        "id": "QgjhJUxE9zL2",
        "outputId": "59b829e3-417c-425e-d176-1525358a03f2"
      },
      "execution_count": 16,
      "outputs": [
        {
          "output_type": "stream",
          "name": "stdout",
          "text": [
            "+----------+--------------------+\n",
            "|product_id|       product_title|\n",
            "+----------+--------------------+\n",
            "|1844161560|Eisenhorn (A Warh...|\n",
            "|0811828964|The Bad Girl's Gu...|\n",
            "|0375701907|Straight Man: A N...|\n",
            "|0029148510|Acts of War: Beha...|\n",
            "|0316769487|The Catcher in th...|\n",
            "|013146308X|The Pterosaurs: F...|\n",
            "|0300108834|A Little History ...|\n",
            "|0373836635|Colby Conspiracy ...|\n",
            "|045121692X|The Last Heiress ...|\n",
            "|141378240X|   Lipstick's Legacy|\n",
            "|1580085695|Furry Logic: A Gu...|\n",
            "|0811848833|The Star Wars Pos...|\n",
            "|0385730586|Sisterhood of the...|\n",
            "|1592285570|Temple to the Win...|\n",
            "|0446531081|Hour Game (King &...|\n",
            "|0976822105|     Faith is a Verb|\n",
            "|0782144276|Photoshop for Nat...|\n",
            "|1581603681|Opening Combinati...|\n",
            "|0375757996|The Basic Works o...|\n",
            "|0262181533|The Psychology of...|\n",
            "+----------+--------------------+\n",
            "only showing top 20 rows\n",
            "\n"
          ]
        }
      ]
    },
    {
      "cell_type": "code",
      "source": [
        "# Create customers dataframe for customers in our database\n",
        "customers_df = books_df.select(['customer_id', 'customer_count'])\n",
        "customers_df.show()"
      ],
      "metadata": {
        "colab": {
          "base_uri": "https://localhost:8080/"
        },
        "id": "HbpAIu539z0s",
        "outputId": "d091d4ba-1dd8-4106-ed7c-6b9f69411bf7"
      },
      "execution_count": 17,
      "outputs": [
        {
          "output_type": "stream",
          "name": "stdout",
          "text": [
            "+-----------+--------------+\n",
            "|customer_id|customer_count|\n",
            "+-----------+--------------+\n",
            "|   12257412|             1|\n",
            "|   12703090|             1|\n",
            "|   15437121|             1|\n",
            "|   27925116|             9|\n",
            "|   31048862|             2|\n",
            "|   45232107|             1|\n",
            "|   48541186|             1|\n",
            "|   50732546|          9964|\n",
            "|   50732546|          9964|\n",
            "|   52157117|             2|\n",
            "|   52253037|             1|\n",
            "|   52534781|             1|\n",
            "|   12076615|             1|\n",
            "|   15005044|             1|\n",
            "|   15280864|             1|\n",
            "|   24209213|             1|\n",
            "|   26217071|             1|\n",
            "|   29732693|             1|\n",
            "|   37684582|             1|\n",
            "|   51964897|             8|\n",
            "+-----------+--------------+\n",
            "only showing top 20 rows\n",
            "\n"
          ]
        }
      ]
    },
    {
      "cell_type": "code",
      "source": [
        "# Create vine dataframe for vine_table in our database\n",
        "vine_df = books_df.select(['review_id', 'star_rating', 'helpful_votes', 'total_votes', 'vine'])\n",
        "vine_df.show()"
      ],
      "metadata": {
        "colab": {
          "base_uri": "https://localhost:8080/"
        },
        "id": "KvIpQz0J93er",
        "outputId": "2169e5cc-6bbc-465a-b07b-17808fcba538"
      },
      "execution_count": 18,
      "outputs": [
        {
          "output_type": "stream",
          "name": "stdout",
          "text": [
            "+--------------+-----------+-------------+-----------+----+\n",
            "|     review_id|star_rating|helpful_votes|total_votes|vine|\n",
            "+--------------+-----------+-------------+-----------+----+\n",
            "|R1DOSHH6AI622S|          4|            1|         22|   N|\n",
            "|  RF6IUKMGL8SF|          3|            5|          5|   N|\n",
            "|R2TIO43ND87XVO|          5|            1|          1|   N|\n",
            "| R7M06Z88PD7SX|          4|           14|         14|   N|\n",
            "|R2F53LI9KK9MOY|          4|            2|          2|   N|\n",
            "|R3SJYLG07EHNE9|          2|           16|         34|   N|\n",
            "|R1VE0FQQ0QTQJN|          5|           16|         20|   N|\n",
            "| RATOTLA3OF70O|          5|            2|          2|   N|\n",
            "|R17026W0TBFZGL|          5|            1|          2|   N|\n",
            "|R18TY4WD19OUAO|          5|            1|          1|   N|\n",
            "|R21SYDQ70ILUC0|          5|            1|          1|   N|\n",
            "|R2YDYRSLGNHPHR|          4|           16|         19|   N|\n",
            "| RQ58W7SMO911M|          4|            2|          3|   N|\n",
            "| RRS38KZ4WB5O2|          5|            1|          1|   N|\n",
            "|R1VKEE2NWSWDRU|          4|            0|          0|   N|\n",
            "|R2UP6XSVYJBJ2H|          5|            0|          0|   N|\n",
            "|R1BMPM18O6VZOR|          4|           13|         14|   N|\n",
            "|R2XIM9LT335WHE|          4|            3|         10|   N|\n",
            "|R1AABFZH0J0C0C|          3|           17|         35|   N|\n",
            "|R1TNWRKIVHVYOV|          4|            0|          2|   N|\n",
            "+--------------+-----------+-------------+-----------+----+\n",
            "only showing top 20 rows\n",
            "\n"
          ]
        }
      ]
    },
    {
      "cell_type": "markdown",
      "source": [
        "# Load Data"
      ],
      "metadata": {
        "id": "BG4uyJHh96lw"
      }
    },
    {
      "cell_type": "code",
      "source": [
        "# Fill out aws fields\n",
        "my_aws_endpoint = 'amazon-big-data-db.cbsmtzrxs98f.us-east-2.rds.amazonaws.com'\n",
        "my_aws_port_number = '5432'\n",
        "my_aws_database_name = 'amazon_big_data_db'\n",
        "my_aws_username = 'herzf012'\n",
        "my_aws_password = 'Lief!997'"
      ],
      "metadata": {
        "id": "0tJ9tWjs995M"
      },
      "execution_count": 19,
      "outputs": []
    },
    {
      "cell_type": "code",
      "source": [
        "# Define the connection string\n",
        "jdbc_url=f'jdbc:postgresql://{my_aws_endpoint}:{my_aws_port_number}/{my_aws_database_name}'\n",
        "\n",
        "# Set up the configuration parameters\n",
        "config = {\"user\": f'{my_aws_username}', \n",
        "          \"password\": f'{my_aws_password}', \n",
        "          \"driver\":\"org.postgresql.Driver\"}\n",
        "\n",
        "# Choose to append the data\n",
        "mode = 'append'"
      ],
      "metadata": {
        "id": "h35hdHHp-AXJ"
      },
      "execution_count": 20,
      "outputs": []
    },
    {
      "cell_type": "code",
      "source": [
        "# Write the dataframe to the appropriate table in our PostgreSQL RDS\n",
        "\n",
        "review_id_df.write.jdbc(url=jdbc_url, table='review_id_table', mode=mode, properties=config)"
      ],
      "metadata": {
        "id": "1oxDbn04-D9e"
      },
      "execution_count": null,
      "outputs": []
    }
  ]
}