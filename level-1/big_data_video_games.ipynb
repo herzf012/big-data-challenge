{
  "nbformat": 4,
  "nbformat_minor": 0,
  "metadata": {
    "colab": {
      "provenance": []
    },
    "kernelspec": {
      "name": "python3",
      "display_name": "Python 3"
    },
    "language_info": {
      "name": "python"
    }
  },
  "cells": [
    {
      "cell_type": "code",
      "execution_count": 1,
      "metadata": {
        "colab": {
          "base_uri": "https://localhost:8080/"
        },
        "id": "iVkkJw26aStp",
        "outputId": "aac35a4f-0d10-4b61-e830-aa8d22ff2d62"
      },
      "outputs": [
        {
          "output_type": "stream",
          "name": "stdout",
          "text": [
            "Hit:1 http://archive.ubuntu.com/ubuntu bionic InRelease\n",
            "Get:2 http://archive.ubuntu.com/ubuntu bionic-updates InRelease [88.7 kB]\n",
            "Get:3 https://cloud.r-project.org/bin/linux/ubuntu bionic-cran40/ InRelease [3,626 B]\n",
            "Ign:4 https://developer.download.nvidia.com/compute/machine-learning/repos/ubuntu1804/x86_64  InRelease\n",
            "Get:5 http://security.ubuntu.com/ubuntu bionic-security InRelease [88.7 kB]\n",
            "Get:6 https://developer.download.nvidia.com/compute/cuda/repos/ubuntu1804/x86_64  InRelease [1,581 B]\n",
            "Hit:7 http://ppa.launchpad.net/c2d4u.team/c2d4u4.0+/ubuntu bionic InRelease\n",
            "Hit:8 https://developer.download.nvidia.com/compute/machine-learning/repos/ubuntu1804/x86_64  Release\n",
            "Get:9 http://archive.ubuntu.com/ubuntu bionic-backports InRelease [83.3 kB]\n",
            "Hit:10 http://ppa.launchpad.net/cran/libgit2/ubuntu bionic InRelease\n",
            "Hit:11 http://ppa.launchpad.net/deadsnakes/ppa/ubuntu bionic InRelease\n",
            "Get:12 http://ppa.launchpad.net/graphics-drivers/ppa/ubuntu bionic InRelease [21.3 kB]\n",
            "Get:13 http://archive.ubuntu.com/ubuntu bionic-updates/universe amd64 Packages [2,338 kB]\n",
            "Get:14 http://archive.ubuntu.com/ubuntu bionic-updates/restricted amd64 Packages [1,303 kB]\n",
            "Get:15 http://archive.ubuntu.com/ubuntu bionic-updates/main amd64 Packages [3,497 kB]\n",
            "Get:16 https://developer.download.nvidia.com/compute/cuda/repos/ubuntu1804/x86_64  Packages [1,038 kB]\n",
            "Get:18 http://security.ubuntu.com/ubuntu bionic-security/main amd64 Packages [3,071 kB]\n",
            "Get:19 http://security.ubuntu.com/ubuntu bionic-security/restricted amd64 Packages [1,262 kB]\n",
            "Get:20 http://security.ubuntu.com/ubuntu bionic-security/universe amd64 Packages [1,563 kB]\n",
            "Get:21 http://ppa.launchpad.net/graphics-drivers/ppa/ubuntu bionic/main amd64 Packages [38.5 kB]\n",
            "Fetched 14.4 MB in 6s (2,506 kB/s)\n",
            "Reading package lists... Done\n"
          ]
        }
      ],
      "source": [
        "import os\n",
        "# Find the latest version of spark 3.2.x  from http://www.apache.org/dist/spark/ and enter as the spark version\n",
        "spark_version = 'spark-3.2.3'\n",
        "\n",
        "os.environ['SPARK_VERSION']=spark_version\n",
        "\n",
        "# Install Spark and Java\n",
        "!apt-get update\n",
        "!apt-get install openjdk-8-jdk-headless -qq > /dev/null\n",
        "!wget -q http://www.apache.org/dist/spark/$SPARK_VERSION/$SPARK_VERSION-bin-hadoop2.7.tgz\n",
        "!tar xf $SPARK_VERSION-bin-hadoop2.7.tgz\n",
        "!pip install -q findspark\n",
        "\n",
        "# Set Environment Variables\n",
        "os.environ[\"JAVA_HOME\"] = \"/usr/lib/jvm/java-8-openjdk-amd64\"\n",
        "os.environ[\"SPARK_HOME\"] = f\"/content/{spark_version}-bin-hadoop2.7\"\n",
        "\n",
        "# Start a SparkSession\n",
        "import findspark\n",
        "findspark.init()"
      ]
    },
    {
      "cell_type": "code",
      "source": [
        "# Install the PostgreSQL driver in our Colab environment\n",
        "!wget https://jdbc.postgresql.org/download/postgresql-42.2.9.jar"
      ],
      "metadata": {
        "colab": {
          "base_uri": "https://localhost:8080/"
        },
        "id": "Jy9cQEvFbEQN",
        "outputId": "7c0a1e81-6b6b-4ee2-a65e-359bf7ea78c3"
      },
      "execution_count": 3,
      "outputs": [
        {
          "output_type": "stream",
          "name": "stdout",
          "text": [
            "--2022-11-29 17:25:44--  https://jdbc.postgresql.org/download/postgresql-42.2.9.jar\n",
            "Resolving jdbc.postgresql.org (jdbc.postgresql.org)... 72.32.157.228, 2001:4800:3e1:1::228\n",
            "Connecting to jdbc.postgresql.org (jdbc.postgresql.org)|72.32.157.228|:443... connected.\n",
            "HTTP request sent, awaiting response... 200 OK\n",
            "Length: 914037 (893K) [application/java-archive]\n",
            "Saving to: ‘postgresql-42.2.9.jar’\n",
            "\n",
            "postgresql-42.2.9.j 100%[===================>] 892.61K  --.-KB/s    in 0.1s    \n",
            "\n",
            "2022-11-29 17:25:44 (6.18 MB/s) - ‘postgresql-42.2.9.jar’ saved [914037/914037]\n",
            "\n"
          ]
        }
      ]
    },
    {
      "cell_type": "code",
      "source": [
        "# Establish a Spark session and add the Postgres driver to the filepath\n",
        "from pyspark.sql import SparkSession\n",
        "spark = SparkSession.builder.appName(\"AMZreviews\").config(\"spark.driver.extraClassPath\",\"/content/postgresql-42.2.9.jar\").getOrCreate()"
      ],
      "metadata": {
        "id": "fCAn1ft2a9rg"
      },
      "execution_count": 4,
      "outputs": []
    },
    {
      "cell_type": "code",
      "source": [
        "# Read the first TSV.GZ file from an S3 bucket\n",
        "from pyspark import SparkFiles\n",
        "url = \"https://s3.amazonaws.com/amazon-reviews-pds/tsv/amazon_reviews_us_Video_Games_v1_00.tsv.gz\"\n",
        "spark.sparkContext.addFile(url)\n",
        "video_game_data_df = spark.read.csv(SparkFiles.get(\"amazon_reviews_us_Video_Games_v1_00.tsv.gz\"), sep=\"\\t\", header=True, inferSchema=True)\n",
        "\n",
        "# Show DataFrame\n",
        "video_game_data_df.show()"
      ],
      "metadata": {
        "colab": {
          "base_uri": "https://localhost:8080/"
        },
        "id": "BtCiyapba_L-",
        "outputId": "aa4521b7-e1de-4806-c070-a05bfc4dc720"
      },
      "execution_count": 25,
      "outputs": [
        {
          "output_type": "stream",
          "name": "stdout",
          "text": [
            "+-----------+-----------+--------------+----------+--------------+--------------------+----------------+-----------+-------------+-----------+----+-----------------+--------------------+--------------------+-----------+\n",
            "|marketplace|customer_id|     review_id|product_id|product_parent|       product_title|product_category|star_rating|helpful_votes|total_votes|vine|verified_purchase|     review_headline|         review_body|review_date|\n",
            "+-----------+-----------+--------------+----------+--------------+--------------------+----------------+-----------+-------------+-----------+----+-----------------+--------------------+--------------------+-----------+\n",
            "|         US|   12039526| RTIS3L2M1F5SM|B001CXYMFS|     737716809|Thrustmaster T-Fl...|     Video Games|          5|            0|          0|   N|                Y|an amazing joysti...|Used this for Eli...| 2015-08-31|\n",
            "|         US|    9636577| R1ZV7R40OLHKD|B00M920ND6|     569686175|Tonsee 6 buttons ...|     Video Games|          5|            0|          0|   N|                Y|Definitely a sile...|Loved it,  I didn...| 2015-08-31|\n",
            "|         US|    2331478|R3BH071QLH8QMC|B0029CSOD2|      98937668|Hidden Mysteries:...|     Video Games|          1|            0|          1|   N|                Y|            One Star|poor quality work...| 2015-08-31|\n",
            "|         US|   52495923|R127K9NTSXA2YH|B00GOOSV98|      23143350|GelTabz Performan...|     Video Games|          3|            0|          0|   N|                Y|good, but could b...|nice, but tend to...| 2015-08-31|\n",
            "|         US|   14533949|R32ZWUXDJPW27Q|B00Y074JOM|     821342511|Zero Suit Samus a...|     Video Games|          4|            0|          0|   N|                Y|   Great but flawed.|Great amiibo, gre...| 2015-08-31|\n",
            "|         US|    2377552|R3AQQ4YUKJWBA6|B002UBI6W6|     328764615|Psyclone Recharge...|     Video Games|          1|            0|          0|   N|                Y|            One Star|The remote consta...| 2015-08-31|\n",
            "|         US|   17521011|R2F0POU5K6F73F|B008XHCLFO|      24234603|Protection for yo...|     Video Games|          5|            0|          0|   N|                Y|              A Must|I have a 2012-201...| 2015-08-31|\n",
            "|         US|   19676307|R3VNR804HYSMR6|B00BRA9R6A|     682267517|   Nerf 3DS XL Armor|     Video Games|          5|            0|          0|   N|                Y|          Five Stars|Perfect, kids lov...| 2015-08-31|\n",
            "|         US|     224068| R3GZTM72WA2QH|B009EPWJLA|     435241890|One Piece: Pirate...|     Video Games|          5|            0|          0|   N|                Y|          Five Stars|            Excelent| 2015-08-31|\n",
            "|         US|   48467989| RNQOY62705W1K|B0000AV7GB|     256572651|Playstation 2 Dan...|     Video Games|          4|            0|          0|   N|                Y|          Four Stars|Slippery but expe...| 2015-08-31|\n",
            "|         US|     106569|R1VTIA3JTYBY02|B00008KTNN|     384411423|Metal Arms: Glitc...|     Video Games|          5|            0|          0|   N|                N|          Five Stars|Love the game. Se...| 2015-08-31|\n",
            "|         US|   48269642|R29DOU8791QZL8|B000A3IA0Y|     472622859|72 Pin Connector ...|     Video Games|          1|            0|          0|   N|                Y| Game will get stuck|Does not fit prop...| 2015-08-31|\n",
            "|         US|   52738710|R15DUT1VIJ9RJZ|B0053BQN34|     577628462|uDraw Gametablet ...|     Video Games|          2|            0|          0|   N|                Y|We have tried it ...|This was way too ...| 2015-08-31|\n",
            "|         US|   10556786|R3IMF2MQ3OU9ZM|B002I0HIMI|     988218515|NBA 2K12(Covers M...|     Video Games|          4|            0|          0|   N|                Y|          Four Stars|Works great good ...| 2015-08-31|\n",
            "|         US|    2963837|R23H79DHOZTYAU|B0081EH12M|     770100932|New Trigger Grips...|     Video Games|          1|            1|          1|   N|                Y|Now i have to buy...|It did not fit th...| 2015-08-31|\n",
            "|         US|   23092109| RIV24EQAIXA4O|B005FMLZQQ|      24647669|Xbox 360 Media Re...|     Video Games|          5|            0|          0|   N|                Y|          Five Stars|perfect lightweig...| 2015-08-31|\n",
            "|         US|   23091728|R3UCNGYDVN24YB|B002BSA388|      33706205|Super Mario Galaxy 2|     Video Games|          5|            0|          0|   N|                Y|          Five Stars|               great| 2015-08-31|\n",
            "|         US|   10712640| RUL4H4XTTN2DY|B00BUSLSAC|     829667834|Nintendo 3DS XL -...|     Video Games|          5|            0|          0|   N|                Y|          Five Stars|Works beautifully...| 2015-08-31|\n",
            "|         US|   17455376|R20JF7Z4DHTNX5|B00KWF38AW|     110680188|Captain Toad:  Tr...|     Video Games|          5|            0|          0|   N|                Y|          Five Stars|Kids loved the ga...| 2015-08-31|\n",
            "|         US|   14754850|R2T1AJ5MFI2260|B00BRQJYA8|     616463426|Lego Batman 2: DC...|     Video Games|          4|            0|          0|   N|                Y|          Four Stars|           Goodngame| 2015-08-31|\n",
            "+-----------+-----------+--------------+----------+--------------+--------------------+----------------+-----------+-------------+-----------+----+-----------------+--------------------+--------------------+-----------+\n",
            "only showing top 20 rows\n",
            "\n"
          ]
        }
      ]
    },
    {
      "cell_type": "code",
      "source": [
        "# Count the amount of rows in the dataset\n",
        "print(f\"Rows in dataset: {video_game_data_df.count()}\")"
      ],
      "metadata": {
        "colab": {
          "base_uri": "https://localhost:8080/"
        },
        "id": "wj5pWlwHcVVb",
        "outputId": "2406007a-5bf5-4993-ef58-dea1d986fc29"
      },
      "execution_count": 29,
      "outputs": [
        {
          "output_type": "stream",
          "name": "stdout",
          "text": [
            "Rows in dataset: 1785997\n"
          ]
        }
      ]
    },
    {
      "cell_type": "code",
      "source": [
        "# Count the amount of distinct rows in the dataset to find duplicates\n",
        "print(f\"Distinct rows in dataset: {video_game_data_df.distinct().count()}\")"
      ],
      "metadata": {
        "colab": {
          "base_uri": "https://localhost:8080/"
        },
        "id": "VDdafOF5pgqZ",
        "outputId": "65bd2f03-cae0-429a-bdaf-ebd20fc528d4"
      },
      "execution_count": 30,
      "outputs": [
        {
          "output_type": "stream",
          "name": "stdout",
          "text": [
            "Distinct rows in dataset: 1785997\n"
          ]
        }
      ]
    },
    {
      "cell_type": "code",
      "source": [
        "# Drop unnecessary columns\n",
        "video_game_data_df = video_game_data_df.drop(\"marketplace\", \"product_category\", \"verified_purchase\", \"review_headline\", \"review_body\")\n",
        "\n",
        "video_game_data_df.show()"
      ],
      "metadata": {
        "colab": {
          "base_uri": "https://localhost:8080/"
        },
        "id": "4vd2PO-NcahZ",
        "outputId": "900d206d-174e-4a39-cbe9-fa0aeb65e753"
      },
      "execution_count": 31,
      "outputs": [
        {
          "output_type": "stream",
          "name": "stdout",
          "text": [
            "+-----------+--------------+----------+--------------+--------------------+-----------+-------------+-----------+----+-----------+\n",
            "|customer_id|     review_id|product_id|product_parent|       product_title|star_rating|helpful_votes|total_votes|vine|review_date|\n",
            "+-----------+--------------+----------+--------------+--------------------+-----------+-------------+-----------+----+-----------+\n",
            "|   12039526| RTIS3L2M1F5SM|B001CXYMFS|     737716809|Thrustmaster T-Fl...|          5|            0|          0|   N| 2015-08-31|\n",
            "|    9636577| R1ZV7R40OLHKD|B00M920ND6|     569686175|Tonsee 6 buttons ...|          5|            0|          0|   N| 2015-08-31|\n",
            "|    2331478|R3BH071QLH8QMC|B0029CSOD2|      98937668|Hidden Mysteries:...|          1|            0|          1|   N| 2015-08-31|\n",
            "|   52495923|R127K9NTSXA2YH|B00GOOSV98|      23143350|GelTabz Performan...|          3|            0|          0|   N| 2015-08-31|\n",
            "|   14533949|R32ZWUXDJPW27Q|B00Y074JOM|     821342511|Zero Suit Samus a...|          4|            0|          0|   N| 2015-08-31|\n",
            "|    2377552|R3AQQ4YUKJWBA6|B002UBI6W6|     328764615|Psyclone Recharge...|          1|            0|          0|   N| 2015-08-31|\n",
            "|   17521011|R2F0POU5K6F73F|B008XHCLFO|      24234603|Protection for yo...|          5|            0|          0|   N| 2015-08-31|\n",
            "|   19676307|R3VNR804HYSMR6|B00BRA9R6A|     682267517|   Nerf 3DS XL Armor|          5|            0|          0|   N| 2015-08-31|\n",
            "|     224068| R3GZTM72WA2QH|B009EPWJLA|     435241890|One Piece: Pirate...|          5|            0|          0|   N| 2015-08-31|\n",
            "|   48467989| RNQOY62705W1K|B0000AV7GB|     256572651|Playstation 2 Dan...|          4|            0|          0|   N| 2015-08-31|\n",
            "|     106569|R1VTIA3JTYBY02|B00008KTNN|     384411423|Metal Arms: Glitc...|          5|            0|          0|   N| 2015-08-31|\n",
            "|   48269642|R29DOU8791QZL8|B000A3IA0Y|     472622859|72 Pin Connector ...|          1|            0|          0|   N| 2015-08-31|\n",
            "|   52738710|R15DUT1VIJ9RJZ|B0053BQN34|     577628462|uDraw Gametablet ...|          2|            0|          0|   N| 2015-08-31|\n",
            "|   10556786|R3IMF2MQ3OU9ZM|B002I0HIMI|     988218515|NBA 2K12(Covers M...|          4|            0|          0|   N| 2015-08-31|\n",
            "|    2963837|R23H79DHOZTYAU|B0081EH12M|     770100932|New Trigger Grips...|          1|            1|          1|   N| 2015-08-31|\n",
            "|   23092109| RIV24EQAIXA4O|B005FMLZQQ|      24647669|Xbox 360 Media Re...|          5|            0|          0|   N| 2015-08-31|\n",
            "|   23091728|R3UCNGYDVN24YB|B002BSA388|      33706205|Super Mario Galaxy 2|          5|            0|          0|   N| 2015-08-31|\n",
            "|   10712640| RUL4H4XTTN2DY|B00BUSLSAC|     829667834|Nintendo 3DS XL -...|          5|            0|          0|   N| 2015-08-31|\n",
            "|   17455376|R20JF7Z4DHTNX5|B00KWF38AW|     110680188|Captain Toad:  Tr...|          5|            0|          0|   N| 2015-08-31|\n",
            "|   14754850|R2T1AJ5MFI2260|B00BRQJYA8|     616463426|Lego Batman 2: DC...|          4|            0|          0|   N| 2015-08-31|\n",
            "+-----------+--------------+----------+--------------+--------------------+-----------+-------------+-----------+----+-----------+\n",
            "only showing top 20 rows\n",
            "\n"
          ]
        }
      ]
    },
    {
      "cell_type": "code",
      "source": [
        "# Find unique customer_id counts\n",
        "print(f\"Unique customer_id counts: {video_game_data_df.select('customer_id').distinct().count()}\")"
      ],
      "metadata": {
        "colab": {
          "base_uri": "https://localhost:8080/"
        },
        "id": "5629B7h_cgPu",
        "outputId": "f5369910-f845-42fb-eb16-656293e376d3"
      },
      "execution_count": 32,
      "outputs": [
        {
          "output_type": "stream",
          "name": "stdout",
          "text": [
            "Unique customer_id counts: 1045733\n"
          ]
        }
      ]
    },
    {
      "cell_type": "code",
      "source": [
        "# Find instances of each customer_id\n",
        "customer_id_count_df = video_game_data_df.groupBy('customer_id').count()\n",
        "\n",
        "customer_id_count_df.show()"
      ],
      "metadata": {
        "colab": {
          "base_uri": "https://localhost:8080/"
        },
        "id": "oM-T4EcWdCNM",
        "outputId": "1d7410d7-c010-45ea-ac5b-484e2c77e838"
      },
      "execution_count": 33,
      "outputs": [
        {
          "output_type": "stream",
          "name": "stdout",
          "text": [
            "+-----------+-----+\n",
            "|customer_id|count|\n",
            "+-----------+-----+\n",
            "|   48670265|    1|\n",
            "|   49103216|    2|\n",
            "|    1131200|    1|\n",
            "|   43076447|    2|\n",
            "|   46261368|    1|\n",
            "|    4883305|    5|\n",
            "|   41192649|    1|\n",
            "|   40985731|    7|\n",
            "|   10437900|    2|\n",
            "|   22245671|    1|\n",
            "|    2574873|    1|\n",
            "|    4696154|    1|\n",
            "|    5621202|    1|\n",
            "|    5871933|    2|\n",
            "|   44089812|    1|\n",
            "|    2845910|    1|\n",
            "|    5274369|    1|\n",
            "|   39069693|    2|\n",
            "|     137793|    1|\n",
            "|   31914942|    3|\n",
            "+-----------+-----+\n",
            "only showing top 20 rows\n",
            "\n"
          ]
        }
      ]
    },
    {
      "cell_type": "code",
      "source": [
        "# Join count to original dataframe\n",
        "video_game_data_df = video_game_data_df.join(customer_id_count_df, video_game_data_df.customer_id == customer_id_count_df.customer_id, \"left\").drop(video_game_data_df.customer_id)\n",
        "video_game_data_df.show()"
      ],
      "metadata": {
        "colab": {
          "base_uri": "https://localhost:8080/"
        },
        "id": "3wKD3wlUiCZW",
        "outputId": "176632a4-4632-49ed-eb09-797186a0263f"
      },
      "execution_count": 34,
      "outputs": [
        {
          "output_type": "stream",
          "name": "stdout",
          "text": [
            "+--------------+----------+--------------+--------------------+-----------+-------------+-----------+----+-----------+-----------+-----+\n",
            "|     review_id|product_id|product_parent|       product_title|star_rating|helpful_votes|total_votes|vine|review_date|customer_id|count|\n",
            "+--------------+----------+--------------+--------------------+-----------+-------------+-----------+----+-----------+-----------+-----+\n",
            "|R1VTIA3JTYBY02|B00008KTNN|     384411423|Metal Arms: Glitc...|          5|            0|          0|   N| 2015-08-31|     106569|    1|\n",
            "|R3BH071QLH8QMC|B0029CSOD2|      98937668|Hidden Mysteries:...|          1|            0|          1|   N| 2015-08-31|    2331478|    3|\n",
            "|R3AQQ4YUKJWBA6|B002UBI6W6|     328764615|Psyclone Recharge...|          1|            0|          0|   N| 2015-08-31|    2377552|    1|\n",
            "|R23H79DHOZTYAU|B0081EH12M|     770100932|New Trigger Grips...|          1|            1|          1|   N| 2015-08-31|    2963837|    2|\n",
            "|R3IMF2MQ3OU9ZM|B002I0HIMI|     988218515|NBA 2K12(Covers M...|          4|            0|          0|   N| 2015-08-31|   10556786|    1|\n",
            "| RUL4H4XTTN2DY|B00BUSLSAC|     829667834|Nintendo 3DS XL -...|          5|            0|          0|   N| 2015-08-31|   10712640|   21|\n",
            "| RTIS3L2M1F5SM|B001CXYMFS|     737716809|Thrustmaster T-Fl...|          5|            0|          0|   N| 2015-08-31|   12039526|    1|\n",
            "|R32ZWUXDJPW27Q|B00Y074JOM|     821342511|Zero Suit Samus a...|          4|            0|          0|   N| 2015-08-31|   14533949|    7|\n",
            "| RYSSKR5ZTU8JX|B0056WJA6C|     772407903|           Bodycount|          1|            0|          0|   N| 2015-08-31|   14533949|    7|\n",
            "|R3VNR804HYSMR6|B00BRA9R6A|     682267517|   Nerf 3DS XL Armor|          5|            0|          0|   N| 2015-08-31|   19676307|    1|\n",
            "|R3UCNGYDVN24YB|B002BSA388|      33706205|Super Mario Galaxy 2|          5|            0|          0|   N| 2015-08-31|   23091728|    1|\n",
            "| RIV24EQAIXA4O|B005FMLZQQ|      24647669|Xbox 360 Media Re...|          5|            0|          0|   N| 2015-08-31|   23092109|    1|\n",
            "|R29DOU8791QZL8|B000A3IA0Y|     472622859|72 Pin Connector ...|          1|            0|          0|   N| 2015-08-31|   48269642|    1|\n",
            "| RNQOY62705W1K|B0000AV7GB|     256572651|Playstation 2 Dan...|          4|            0|          0|   N| 2015-08-31|   48467989|    1|\n",
            "|R127K9NTSXA2YH|B00GOOSV98|      23143350|GelTabz Performan...|          3|            0|          0|   N| 2015-08-31|   52495923|    2|\n",
            "| R3GZTM72WA2QH|B009EPWJLA|     435241890|One Piece: Pirate...|          5|            0|          0|   N| 2015-08-31|     224068|    3|\n",
            "| R1ZV7R40OLHKD|B00M920ND6|     569686175|Tonsee 6 buttons ...|          5|            0|          0|   N| 2015-08-31|    9636577|    1|\n",
            "|R2T1AJ5MFI2260|B00BRQJYA8|     616463426|Lego Batman 2: DC...|          4|            0|          0|   N| 2015-08-31|   14754850|    1|\n",
            "|R20JF7Z4DHTNX5|B00KWF38AW|     110680188|Captain Toad:  Tr...|          5|            0|          0|   N| 2015-08-31|   17455376|    1|\n",
            "|R2F0POU5K6F73F|B008XHCLFO|      24234603|Protection for yo...|          5|            0|          0|   N| 2015-08-31|   17521011|    2|\n",
            "+--------------+----------+--------------+--------------------+-----------+-------------+-----------+----+-----------+-----------+-----+\n",
            "only showing top 20 rows\n",
            "\n"
          ]
        }
      ]
    },
    {
      "cell_type": "code",
      "source": [
        "# Ensure rows are preserved\n",
        "print(video_game_data_df.count())"
      ],
      "metadata": {
        "colab": {
          "base_uri": "https://localhost:8080/"
        },
        "id": "mVb0v3o9dleb",
        "outputId": "bb95f5f8-4a01-4167-b30f-d760b8612a75"
      },
      "execution_count": 35,
      "outputs": [
        {
          "output_type": "stream",
          "name": "stdout",
          "text": [
            "1785997\n"
          ]
        }
      ]
    },
    {
      "cell_type": "code",
      "source": [
        "# Rename count column\n",
        "video_game_data_df = video_game_data_df.withColumnRenamed(\"count\", \"customer_count\")\n",
        "video_game_data_df.show()"
      ],
      "metadata": {
        "colab": {
          "base_uri": "https://localhost:8080/"
        },
        "id": "Kl3fhKfYlAuM",
        "outputId": "e314c29b-dc9f-43ac-c8b9-4fa047933dbb"
      },
      "execution_count": 36,
      "outputs": [
        {
          "output_type": "stream",
          "name": "stdout",
          "text": [
            "+--------------+----------+--------------+--------------------+-----------+-------------+-----------+----+-----------+-----------+--------------+\n",
            "|     review_id|product_id|product_parent|       product_title|star_rating|helpful_votes|total_votes|vine|review_date|customer_id|customer_count|\n",
            "+--------------+----------+--------------+--------------------+-----------+-------------+-----------+----+-----------+-----------+--------------+\n",
            "|R1VTIA3JTYBY02|B00008KTNN|     384411423|Metal Arms: Glitc...|          5|            0|          0|   N| 2015-08-31|     106569|             1|\n",
            "|R3BH071QLH8QMC|B0029CSOD2|      98937668|Hidden Mysteries:...|          1|            0|          1|   N| 2015-08-31|    2331478|             3|\n",
            "|R3AQQ4YUKJWBA6|B002UBI6W6|     328764615|Psyclone Recharge...|          1|            0|          0|   N| 2015-08-31|    2377552|             1|\n",
            "|R23H79DHOZTYAU|B0081EH12M|     770100932|New Trigger Grips...|          1|            1|          1|   N| 2015-08-31|    2963837|             2|\n",
            "|R3IMF2MQ3OU9ZM|B002I0HIMI|     988218515|NBA 2K12(Covers M...|          4|            0|          0|   N| 2015-08-31|   10556786|             1|\n",
            "| RUL4H4XTTN2DY|B00BUSLSAC|     829667834|Nintendo 3DS XL -...|          5|            0|          0|   N| 2015-08-31|   10712640|            21|\n",
            "| RTIS3L2M1F5SM|B001CXYMFS|     737716809|Thrustmaster T-Fl...|          5|            0|          0|   N| 2015-08-31|   12039526|             1|\n",
            "|R32ZWUXDJPW27Q|B00Y074JOM|     821342511|Zero Suit Samus a...|          4|            0|          0|   N| 2015-08-31|   14533949|             7|\n",
            "| RYSSKR5ZTU8JX|B0056WJA6C|     772407903|           Bodycount|          1|            0|          0|   N| 2015-08-31|   14533949|             7|\n",
            "|R3VNR804HYSMR6|B00BRA9R6A|     682267517|   Nerf 3DS XL Armor|          5|            0|          0|   N| 2015-08-31|   19676307|             1|\n",
            "|R3UCNGYDVN24YB|B002BSA388|      33706205|Super Mario Galaxy 2|          5|            0|          0|   N| 2015-08-31|   23091728|             1|\n",
            "| RIV24EQAIXA4O|B005FMLZQQ|      24647669|Xbox 360 Media Re...|          5|            0|          0|   N| 2015-08-31|   23092109|             1|\n",
            "|R29DOU8791QZL8|B000A3IA0Y|     472622859|72 Pin Connector ...|          1|            0|          0|   N| 2015-08-31|   48269642|             1|\n",
            "| RNQOY62705W1K|B0000AV7GB|     256572651|Playstation 2 Dan...|          4|            0|          0|   N| 2015-08-31|   48467989|             1|\n",
            "|R127K9NTSXA2YH|B00GOOSV98|      23143350|GelTabz Performan...|          3|            0|          0|   N| 2015-08-31|   52495923|             2|\n",
            "| R3GZTM72WA2QH|B009EPWJLA|     435241890|One Piece: Pirate...|          5|            0|          0|   N| 2015-08-31|     224068|             3|\n",
            "| R1ZV7R40OLHKD|B00M920ND6|     569686175|Tonsee 6 buttons ...|          5|            0|          0|   N| 2015-08-31|    9636577|             1|\n",
            "|R2T1AJ5MFI2260|B00BRQJYA8|     616463426|Lego Batman 2: DC...|          4|            0|          0|   N| 2015-08-31|   14754850|             1|\n",
            "|R20JF7Z4DHTNX5|B00KWF38AW|     110680188|Captain Toad:  Tr...|          5|            0|          0|   N| 2015-08-31|   17455376|             1|\n",
            "|R2F0POU5K6F73F|B008XHCLFO|      24234603|Protection for yo...|          5|            0|          0|   N| 2015-08-31|   17521011|             2|\n",
            "+--------------+----------+--------------+--------------------+-----------+-------------+-----------+----+-----------+-----------+--------------+\n",
            "only showing top 20 rows\n",
            "\n"
          ]
        }
      ]
    },
    {
      "cell_type": "code",
      "source": [
        "# Check data types\n",
        "video_game_data_df.printSchema()"
      ],
      "metadata": {
        "colab": {
          "base_uri": "https://localhost:8080/"
        },
        "id": "s_z3FzsioYfG",
        "outputId": "55e15d12-2349-4bd2-d0f3-af666ff3a7fc"
      },
      "execution_count": 38,
      "outputs": [
        {
          "output_type": "stream",
          "name": "stdout",
          "text": [
            "root\n",
            " |-- review_id: string (nullable = true)\n",
            " |-- product_id: string (nullable = true)\n",
            " |-- product_parent: integer (nullable = true)\n",
            " |-- product_title: string (nullable = true)\n",
            " |-- star_rating: integer (nullable = true)\n",
            " |-- helpful_votes: integer (nullable = true)\n",
            " |-- total_votes: integer (nullable = true)\n",
            " |-- vine: string (nullable = true)\n",
            " |-- review_date: string (nullable = true)\n",
            " |-- customer_id: integer (nullable = true)\n",
            " |-- customer_count: long (nullable = true)\n",
            "\n"
          ]
        }
      ]
    },
    {
      "cell_type": "code",
      "source": [
        "# Cast customer_count to integer\n",
        "video_game_data_df = video_game_data_df.withColumn(\"customer_count\", video_game_data_df.customer_count.cast(\"integer\"))\n",
        "video_game_data_df.printSchema()"
      ],
      "metadata": {
        "colab": {
          "base_uri": "https://localhost:8080/"
        },
        "id": "PPX00ReErkMy",
        "outputId": "ca65f9ff-306e-4a60-8946-34a045eda789"
      },
      "execution_count": 39,
      "outputs": [
        {
          "output_type": "stream",
          "name": "stdout",
          "text": [
            "root\n",
            " |-- review_id: string (nullable = true)\n",
            " |-- product_id: string (nullable = true)\n",
            " |-- product_parent: integer (nullable = true)\n",
            " |-- product_title: string (nullable = true)\n",
            " |-- star_rating: integer (nullable = true)\n",
            " |-- helpful_votes: integer (nullable = true)\n",
            " |-- total_votes: integer (nullable = true)\n",
            " |-- vine: string (nullable = true)\n",
            " |-- review_date: string (nullable = true)\n",
            " |-- customer_id: integer (nullable = true)\n",
            " |-- customer_count: integer (nullable = true)\n",
            "\n"
          ]
        }
      ]
    },
    {
      "cell_type": "code",
      "source": [],
      "metadata": {
        "id": "OeEfKGaksRzS"
      },
      "execution_count": null,
      "outputs": []
    }
  ]
}