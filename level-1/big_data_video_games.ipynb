{
  "nbformat": 4,
  "nbformat_minor": 0,
  "metadata": {
    "colab": {
      "provenance": []
    },
    "kernelspec": {
      "name": "python3",
      "display_name": "Python 3"
    },
    "language_info": {
      "name": "python"
    }
  },
  "cells": [
    {
      "cell_type": "markdown",
      "source": [
        "# Import Dependences"
      ],
      "metadata": {
        "id": "U_J7DOWkwJxN"
      }
    },
    {
      "cell_type": "code",
      "execution_count": null,
      "metadata": {
        "id": "iVkkJw26aStp"
      },
      "outputs": [],
      "source": [
        "import os\n",
        "# Find the latest version of spark 3.2.x  from http://www.apache.org/dist/spark/ and enter as the spark version\n",
        "spark_version = 'spark-3.2.3'\n",
        "\n",
        "os.environ['SPARK_VERSION']=spark_version\n",
        "\n",
        "# Install Spark and Java\n",
        "!apt-get update\n",
        "!apt-get install openjdk-8-jdk-headless -qq > /dev/null\n",
        "!wget -q http://www.apache.org/dist/spark/$SPARK_VERSION/$SPARK_VERSION-bin-hadoop2.7.tgz\n",
        "!tar xf $SPARK_VERSION-bin-hadoop2.7.tgz\n",
        "!pip install -q findspark\n",
        "\n",
        "# Set Environment Variables\n",
        "os.environ[\"JAVA_HOME\"] = \"/usr/lib/jvm/java-8-openjdk-amd64\"\n",
        "os.environ[\"SPARK_HOME\"] = f\"/content/{spark_version}-bin-hadoop2.7\"\n",
        "\n",
        "# Start a SparkSession\n",
        "import findspark\n",
        "findspark.init()"
      ]
    },
    {
      "cell_type": "code",
      "source": [
        "# Install the PostgreSQL driver in our Colab environment\n",
        "!wget https://jdbc.postgresql.org/download/postgresql-42.2.9.jar"
      ],
      "metadata": {
        "id": "Jy9cQEvFbEQN"
      },
      "execution_count": null,
      "outputs": []
    },
    {
      "cell_type": "code",
      "source": [
        "# Establish a Spark session and add the Postgres driver to the filepath\n",
        "from pyspark.sql import SparkSession\n",
        "spark = SparkSession.builder.appName(\"AMZreviews\").config(\"spark.driver.extraClassPath\",\"/content/postgresql-42.2.9.jar\").getOrCreate()"
      ],
      "metadata": {
        "id": "fCAn1ft2a9rg"
      },
      "execution_count": null,
      "outputs": []
    },
    {
      "cell_type": "markdown",
      "source": [
        "# Extract Data"
      ],
      "metadata": {
        "id": "MRPYkxLdw7Pv"
      }
    },
    {
      "cell_type": "code",
      "source": [
        "# Read the first TSV.GZ file from an S3 bucket\n",
        "from pyspark import SparkFiles\n",
        "url = \"https://s3.amazonaws.com/amazon-reviews-pds/tsv/amazon_reviews_us_Video_Games_v1_00.tsv.gz\"\n",
        "spark.sparkContext.addFile(url)\n",
        "video_game_data_df = spark.read.csv(SparkFiles.get(\"amazon_reviews_us_Video_Games_v1_00.tsv.gz\"), sep=\"\\t\", header=True, inferSchema=True)\n",
        "\n",
        "# Show DataFrame\n",
        "video_game_data_df.show()"
      ],
      "metadata": {
        "id": "BtCiyapba_L-"
      },
      "execution_count": null,
      "outputs": []
    },
    {
      "cell_type": "code",
      "source": [
        "# Count the amount of rows in the dataset\n",
        "print(f\"Rows in dataset: {video_game_data_df.count()}\")"
      ],
      "metadata": {
        "id": "wj5pWlwHcVVb"
      },
      "execution_count": null,
      "outputs": []
    },
    {
      "cell_type": "markdown",
      "source": [
        "# Transform Data"
      ],
      "metadata": {
        "id": "FXW09XU5xABA"
      }
    },
    {
      "cell_type": "code",
      "source": [
        "# Count the amount of distinct rows in the dataset to find duplicates\n",
        "print(f\"Distinct rows in dataset: {video_game_data_df.distinct().count()}\")"
      ],
      "metadata": {
        "id": "VDdafOF5pgqZ"
      },
      "execution_count": null,
      "outputs": []
    },
    {
      "cell_type": "code",
      "source": [
        "# Drop unnecessary columns\n",
        "video_game_data_df = video_game_data_df.drop(\"marketplace\", \"product_category\", \"verified_purchase\", \"review_headline\", \"review_body\")\n",
        "\n",
        "video_game_data_df.show()"
      ],
      "metadata": {
        "id": "4vd2PO-NcahZ"
      },
      "execution_count": null,
      "outputs": []
    },
    {
      "cell_type": "code",
      "source": [
        "# Find unique customer_id counts\n",
        "print(f\"Unique customer_id counts: {video_game_data_df.select('customer_id').distinct().count()}\")"
      ],
      "metadata": {
        "id": "5629B7h_cgPu"
      },
      "execution_count": null,
      "outputs": []
    },
    {
      "cell_type": "code",
      "source": [
        "# Find instances of each customer_id\n",
        "customer_id_count_df = video_game_data_df.groupBy('customer_id').count()\n",
        "\n",
        "customer_id_count_df.show()"
      ],
      "metadata": {
        "id": "oM-T4EcWdCNM"
      },
      "execution_count": null,
      "outputs": []
    },
    {
      "cell_type": "code",
      "source": [
        "# Join count to original dataframe\n",
        "video_game_data_df = video_game_data_df.join(customer_id_count_df, video_game_data_df.customer_id == customer_id_count_df.customer_id, \"left\").drop(video_game_data_df.customer_id)\n",
        "video_game_data_df.show()"
      ],
      "metadata": {
        "id": "3wKD3wlUiCZW"
      },
      "execution_count": null,
      "outputs": []
    },
    {
      "cell_type": "code",
      "source": [
        "# Ensure rows are preserved\n",
        "print(video_game_data_df.count())"
      ],
      "metadata": {
        "id": "mVb0v3o9dleb"
      },
      "execution_count": null,
      "outputs": []
    },
    {
      "cell_type": "code",
      "source": [
        "# Rename count column\n",
        "video_game_data_df = video_game_data_df.withColumnRenamed(\"count\", \"customer_count\")\n",
        "video_game_data_df.show()"
      ],
      "metadata": {
        "id": "Kl3fhKfYlAuM"
      },
      "execution_count": null,
      "outputs": []
    },
    {
      "cell_type": "code",
      "source": [
        "# Check data types\n",
        "video_game_data_df.printSchema()"
      ],
      "metadata": {
        "id": "s_z3FzsioYfG"
      },
      "execution_count": null,
      "outputs": []
    },
    {
      "cell_type": "code",
      "source": [
        "# Cast customer_count to integer\n",
        "video_game_data_df = video_game_data_df.withColumn(\"customer_count\", video_game_data_df.customer_count.cast(\"integer\"))\n",
        "video_game_data_df.printSchema()"
      ],
      "metadata": {
        "id": "PPX00ReErkMy"
      },
      "execution_count": null,
      "outputs": []
    },
    {
      "cell_type": "code",
      "source": [
        "# Create review_id dataframe for review_id_table in our database\n",
        "review_id_df = video_game_data_df.select(['review_id', 'customer_id', 'product_id', 'product_parent', 'review_date'])\n",
        "review_id_df.show() "
      ],
      "metadata": {
        "id": "OeEfKGaksRzS"
      },
      "execution_count": null,
      "outputs": []
    },
    {
      "cell_type": "code",
      "source": [
        "# Create products dataframe for products in our database\n",
        "products_df = video_game_data_df.select(['product_id', 'product_title'])\n",
        "products_df.show()"
      ],
      "metadata": {
        "id": "UPdUrcDMuZN7"
      },
      "execution_count": null,
      "outputs": []
    },
    {
      "cell_type": "code",
      "source": [
        "# Create customers dataframe for customers in our database\n",
        "customers_df = video_game_data_df.select(['customer_id', 'customer_count'])\n",
        "customers_df.show()"
      ],
      "metadata": {
        "id": "yNwunp_4u-a7"
      },
      "execution_count": null,
      "outputs": []
    },
    {
      "cell_type": "code",
      "source": [
        "# Create vine dataframe for vine_table in our database\n",
        "vine_df = video_game_data_df.select(['review_id', 'star_rating', 'helpful_votes', 'total_votes', 'vine'])\n",
        "vine_df.show()"
      ],
      "metadata": {
        "id": "Co3Fm3cMvUKM"
      },
      "execution_count": null,
      "outputs": []
    },
    {
      "cell_type": "markdown",
      "source": [
        "# Load Data"
      ],
      "metadata": {
        "id": "uw0i5hIovz_w"
      }
    },
    {
      "cell_type": "code",
      "source": [
        "# Fill out aws fields\n",
        "my_aws_endpoint = 'amazon-big-data-db.cbsmtzrxs98f.us-east-2.rds.amazonaws.com'\n",
        "my_aws_port_number = '5432'\n",
        "my_aws_database_name = 'amazon_big_data_db'\n",
        "my_aws_username = 'herzf012'\n",
        "my_aws_password = 'Lief!997'"
      ],
      "metadata": {
        "id": "PLitXhgQxMMb"
      },
      "execution_count": null,
      "outputs": []
    },
    {
      "cell_type": "code",
      "source": [
        "# Define the connection string\n",
        "jdbc_url=f'jdbc:postgresql://{my_aws_endpoint}:{my_aws_port_number}/{my_aws_database_name}'\n",
        "\n",
        "# Set up the configuration parameters\n",
        "config = {\"user\": f'{my_aws_username}', \n",
        "          \"password\": f'{my_aws_password}', \n",
        "          \"driver\":\"org.postgresql.Driver\"}\n",
        "\n",
        "# Choose to append the data\n",
        "mode = 'append'"
      ],
      "metadata": {
        "id": "u45EsrgjyN8q"
      },
      "execution_count": null,
      "outputs": []
    },
    {
      "cell_type": "code",
      "source": [
        "# Write the dataframe to the appropriate table in our PostgreSQL RDS\n",
        "\n",
        "review_id_df.write.jdbc(url=jdbc_url, table='review_id_table', mode=mode, properties=config)"
      ],
      "metadata": {
        "id": "TmYL9u30yqnm"
      },
      "execution_count": null,
      "outputs": []
    },
    {
      "cell_type": "code",
      "source": [],
      "metadata": {
        "id": "0DHZJL1fzeOK"
      },
      "execution_count": null,
      "outputs": []
    }
  ]
}