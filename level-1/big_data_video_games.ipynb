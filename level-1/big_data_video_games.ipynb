{
  "nbformat": 4,
  "nbformat_minor": 0,
  "metadata": {
    "colab": {
      "provenance": []
    },
    "kernelspec": {
      "name": "python3",
      "display_name": "Python 3"
    },
    "language_info": {
      "name": "python"
    }
  },
  "cells": [
    {
      "cell_type": "markdown",
      "source": [
        "# Import Dependences"
      ],
      "metadata": {
        "id": "U_J7DOWkwJxN"
      }
    },
    {
      "cell_type": "code",
      "execution_count": 1,
      "metadata": {
        "id": "iVkkJw26aStp",
        "colab": {
          "base_uri": "https://localhost:8080/"
        },
        "outputId": "48591cd5-7b7b-45ee-bad9-f8316151aaa2"
      },
      "outputs": [
        {
          "output_type": "stream",
          "name": "stdout",
          "text": [
            "Get:1 http://security.ubuntu.com/ubuntu bionic-security InRelease [88.7 kB]\n",
            "Hit:2 http://archive.ubuntu.com/ubuntu bionic InRelease\n",
            "Get:3 http://archive.ubuntu.com/ubuntu bionic-updates InRelease [88.7 kB]\n",
            "Get:4 https://cloud.r-project.org/bin/linux/ubuntu bionic-cran40/ InRelease [3,626 B]\n",
            "Ign:5 https://developer.download.nvidia.com/compute/machine-learning/repos/ubuntu1804/x86_64  InRelease\n",
            "Get:6 https://developer.download.nvidia.com/compute/cuda/repos/ubuntu1804/x86_64  InRelease [1,581 B]\n",
            "Hit:7 http://ppa.launchpad.net/c2d4u.team/c2d4u4.0+/ubuntu bionic InRelease\n",
            "Get:8 http://archive.ubuntu.com/ubuntu bionic-backports InRelease [83.3 kB]\n",
            "Hit:9 https://developer.download.nvidia.com/compute/machine-learning/repos/ubuntu1804/x86_64  Release\n",
            "Hit:10 http://ppa.launchpad.net/cran/libgit2/ubuntu bionic InRelease\n",
            "Hit:11 http://ppa.launchpad.net/deadsnakes/ppa/ubuntu bionic InRelease\n",
            "Get:12 http://ppa.launchpad.net/graphics-drivers/ppa/ubuntu bionic InRelease [21.3 kB]\n",
            "Get:13 http://archive.ubuntu.com/ubuntu bionic-updates/universe amd64 Packages [2,338 kB]\n",
            "Get:14 http://archive.ubuntu.com/ubuntu bionic-updates/main amd64 Packages [3,497 kB]\n",
            "Get:15 http://security.ubuntu.com/ubuntu bionic-security/restricted amd64 Packages [1,262 kB]\n",
            "Get:16 http://archive.ubuntu.com/ubuntu bionic-updates/restricted amd64 Packages [1,303 kB]\n",
            "Get:17 http://security.ubuntu.com/ubuntu bionic-security/universe amd64 Packages [1,563 kB]\n",
            "Get:18 http://security.ubuntu.com/ubuntu bionic-security/main amd64 Packages [3,071 kB]\n",
            "Get:19 https://developer.download.nvidia.com/compute/cuda/repos/ubuntu1804/x86_64  Packages [1,038 kB]\n",
            "Get:21 http://ppa.launchpad.net/graphics-drivers/ppa/ubuntu bionic/main amd64 Packages [38.5 kB]\n",
            "Fetched 14.4 MB in 6s (2,532 kB/s)\n",
            "Reading package lists... Done\n"
          ]
        }
      ],
      "source": [
        "import os\n",
        "# Find the latest version of spark 3.2.x  from http://www.apache.org/dist/spark/ and enter as the spark version\n",
        "spark_version = 'spark-3.2.3'\n",
        "\n",
        "os.environ['SPARK_VERSION']=spark_version\n",
        "\n",
        "# Install Spark and Java\n",
        "!apt-get update\n",
        "!apt-get install openjdk-8-jdk-headless -qq > /dev/null\n",
        "!wget -q http://www.apache.org/dist/spark/$SPARK_VERSION/$SPARK_VERSION-bin-hadoop2.7.tgz\n",
        "!tar xf $SPARK_VERSION-bin-hadoop2.7.tgz\n",
        "!pip install -q findspark\n",
        "\n",
        "# Set Environment Variables\n",
        "os.environ[\"JAVA_HOME\"] = \"/usr/lib/jvm/java-8-openjdk-amd64\"\n",
        "os.environ[\"SPARK_HOME\"] = f\"/content/{spark_version}-bin-hadoop2.7\"\n",
        "\n",
        "# Start a SparkSession\n",
        "import findspark\n",
        "findspark.init()"
      ]
    },
    {
      "cell_type": "code",
      "source": [
        "# Install the PostgreSQL driver in our Colab environment\n",
        "!wget https://jdbc.postgresql.org/download/postgresql-42.2.9.jar"
      ],
      "metadata": {
        "id": "Jy9cQEvFbEQN",
        "colab": {
          "base_uri": "https://localhost:8080/"
        },
        "outputId": "3b1acb49-2edb-483f-fb2d-deb5d8e480ba"
      },
      "execution_count": 2,
      "outputs": [
        {
          "output_type": "stream",
          "name": "stdout",
          "text": [
            "--2022-11-30 02:56:16--  https://jdbc.postgresql.org/download/postgresql-42.2.9.jar\n",
            "Resolving jdbc.postgresql.org (jdbc.postgresql.org)... 72.32.157.228, 2001:4800:3e1:1::228\n",
            "Connecting to jdbc.postgresql.org (jdbc.postgresql.org)|72.32.157.228|:443... connected.\n",
            "HTTP request sent, awaiting response... 200 OK\n",
            "Length: 914037 (893K) [application/java-archive]\n",
            "Saving to: ‘postgresql-42.2.9.jar’\n",
            "\n",
            "postgresql-42.2.9.j 100%[===================>] 892.61K  5.51MB/s    in 0.2s    \n",
            "\n",
            "2022-11-30 02:56:16 (5.51 MB/s) - ‘postgresql-42.2.9.jar’ saved [914037/914037]\n",
            "\n"
          ]
        }
      ]
    },
    {
      "cell_type": "code",
      "source": [
        "# Establish a Spark session and add the Postgres driver to the filepath\n",
        "from pyspark.sql import SparkSession\n",
        "spark = SparkSession.builder.appName(\"AMZreviews\").config(\"spark.driver.extraClassPath\",\"/content/postgresql-42.2.9.jar\").getOrCreate()"
      ],
      "metadata": {
        "id": "fCAn1ft2a9rg"
      },
      "execution_count": 3,
      "outputs": []
    },
    {
      "cell_type": "markdown",
      "source": [
        "# Extract Data"
      ],
      "metadata": {
        "id": "MRPYkxLdw7Pv"
      }
    },
    {
      "cell_type": "code",
      "source": [
        "# Read the first TSV.GZ file from an S3 bucket\n",
        "from pyspark import SparkFiles\n",
        "url = \"https://s3.amazonaws.com/amazon-reviews-pds/tsv/amazon_reviews_us_Video_Games_v1_00.tsv.gz\"\n",
        "spark.sparkContext.addFile(url)\n",
        "video_game_data_df = spark.read.csv(SparkFiles.get(\"amazon_reviews_us_Video_Games_v1_00.tsv.gz\"), sep=\"\\t\", header=True, inferSchema=True)\n",
        "\n",
        "# Show DataFrame\n",
        "video_game_data_df.show()"
      ],
      "metadata": {
        "id": "BtCiyapba_L-",
        "colab": {
          "base_uri": "https://localhost:8080/"
        },
        "outputId": "c6d01a3c-91ed-49f2-a47e-d70c9937d6b0"
      },
      "execution_count": 4,
      "outputs": [
        {
          "output_type": "stream",
          "name": "stdout",
          "text": [
            "+-----------+-----------+--------------+----------+--------------+--------------------+----------------+-----------+-------------+-----------+----+-----------------+--------------------+--------------------+-----------+\n",
            "|marketplace|customer_id|     review_id|product_id|product_parent|       product_title|product_category|star_rating|helpful_votes|total_votes|vine|verified_purchase|     review_headline|         review_body|review_date|\n",
            "+-----------+-----------+--------------+----------+--------------+--------------------+----------------+-----------+-------------+-----------+----+-----------------+--------------------+--------------------+-----------+\n",
            "|         US|   12039526| RTIS3L2M1F5SM|B001CXYMFS|     737716809|Thrustmaster T-Fl...|     Video Games|          5|            0|          0|   N|                Y|an amazing joysti...|Used this for Eli...| 2015-08-31|\n",
            "|         US|    9636577| R1ZV7R40OLHKD|B00M920ND6|     569686175|Tonsee 6 buttons ...|     Video Games|          5|            0|          0|   N|                Y|Definitely a sile...|Loved it,  I didn...| 2015-08-31|\n",
            "|         US|    2331478|R3BH071QLH8QMC|B0029CSOD2|      98937668|Hidden Mysteries:...|     Video Games|          1|            0|          1|   N|                Y|            One Star|poor quality work...| 2015-08-31|\n",
            "|         US|   52495923|R127K9NTSXA2YH|B00GOOSV98|      23143350|GelTabz Performan...|     Video Games|          3|            0|          0|   N|                Y|good, but could b...|nice, but tend to...| 2015-08-31|\n",
            "|         US|   14533949|R32ZWUXDJPW27Q|B00Y074JOM|     821342511|Zero Suit Samus a...|     Video Games|          4|            0|          0|   N|                Y|   Great but flawed.|Great amiibo, gre...| 2015-08-31|\n",
            "|         US|    2377552|R3AQQ4YUKJWBA6|B002UBI6W6|     328764615|Psyclone Recharge...|     Video Games|          1|            0|          0|   N|                Y|            One Star|The remote consta...| 2015-08-31|\n",
            "|         US|   17521011|R2F0POU5K6F73F|B008XHCLFO|      24234603|Protection for yo...|     Video Games|          5|            0|          0|   N|                Y|              A Must|I have a 2012-201...| 2015-08-31|\n",
            "|         US|   19676307|R3VNR804HYSMR6|B00BRA9R6A|     682267517|   Nerf 3DS XL Armor|     Video Games|          5|            0|          0|   N|                Y|          Five Stars|Perfect, kids lov...| 2015-08-31|\n",
            "|         US|     224068| R3GZTM72WA2QH|B009EPWJLA|     435241890|One Piece: Pirate...|     Video Games|          5|            0|          0|   N|                Y|          Five Stars|            Excelent| 2015-08-31|\n",
            "|         US|   48467989| RNQOY62705W1K|B0000AV7GB|     256572651|Playstation 2 Dan...|     Video Games|          4|            0|          0|   N|                Y|          Four Stars|Slippery but expe...| 2015-08-31|\n",
            "|         US|     106569|R1VTIA3JTYBY02|B00008KTNN|     384411423|Metal Arms: Glitc...|     Video Games|          5|            0|          0|   N|                N|          Five Stars|Love the game. Se...| 2015-08-31|\n",
            "|         US|   48269642|R29DOU8791QZL8|B000A3IA0Y|     472622859|72 Pin Connector ...|     Video Games|          1|            0|          0|   N|                Y| Game will get stuck|Does not fit prop...| 2015-08-31|\n",
            "|         US|   52738710|R15DUT1VIJ9RJZ|B0053BQN34|     577628462|uDraw Gametablet ...|     Video Games|          2|            0|          0|   N|                Y|We have tried it ...|This was way too ...| 2015-08-31|\n",
            "|         US|   10556786|R3IMF2MQ3OU9ZM|B002I0HIMI|     988218515|NBA 2K12(Covers M...|     Video Games|          4|            0|          0|   N|                Y|          Four Stars|Works great good ...| 2015-08-31|\n",
            "|         US|    2963837|R23H79DHOZTYAU|B0081EH12M|     770100932|New Trigger Grips...|     Video Games|          1|            1|          1|   N|                Y|Now i have to buy...|It did not fit th...| 2015-08-31|\n",
            "|         US|   23092109| RIV24EQAIXA4O|B005FMLZQQ|      24647669|Xbox 360 Media Re...|     Video Games|          5|            0|          0|   N|                Y|          Five Stars|perfect lightweig...| 2015-08-31|\n",
            "|         US|   23091728|R3UCNGYDVN24YB|B002BSA388|      33706205|Super Mario Galaxy 2|     Video Games|          5|            0|          0|   N|                Y|          Five Stars|               great| 2015-08-31|\n",
            "|         US|   10712640| RUL4H4XTTN2DY|B00BUSLSAC|     829667834|Nintendo 3DS XL -...|     Video Games|          5|            0|          0|   N|                Y|          Five Stars|Works beautifully...| 2015-08-31|\n",
            "|         US|   17455376|R20JF7Z4DHTNX5|B00KWF38AW|     110680188|Captain Toad:  Tr...|     Video Games|          5|            0|          0|   N|                Y|          Five Stars|Kids loved the ga...| 2015-08-31|\n",
            "|         US|   14754850|R2T1AJ5MFI2260|B00BRQJYA8|     616463426|Lego Batman 2: DC...|     Video Games|          4|            0|          0|   N|                Y|          Four Stars|           Goodngame| 2015-08-31|\n",
            "+-----------+-----------+--------------+----------+--------------+--------------------+----------------+-----------+-------------+-----------+----+-----------------+--------------------+--------------------+-----------+\n",
            "only showing top 20 rows\n",
            "\n"
          ]
        }
      ]
    },
    {
      "cell_type": "code",
      "source": [
        "# Count the amount of rows in the dataset\n",
        "print(f\"Rows in dataset: {video_game_data_df.count()}\")"
      ],
      "metadata": {
        "id": "wj5pWlwHcVVb",
        "colab": {
          "base_uri": "https://localhost:8080/"
        },
        "outputId": "e358b9a7-0985-4a94-8d8f-99204cbf91e5"
      },
      "execution_count": 5,
      "outputs": [
        {
          "output_type": "stream",
          "name": "stdout",
          "text": [
            "Rows in dataset: 1785997\n"
          ]
        }
      ]
    },
    {
      "cell_type": "markdown",
      "source": [
        "# Transform Data"
      ],
      "metadata": {
        "id": "FXW09XU5xABA"
      }
    },
    {
      "cell_type": "code",
      "source": [
        "# Count the amount of distinct rows in the dataset to find duplicates\n",
        "print(f\"Distinct rows in dataset: {video_game_data_df.distinct().count()}\")"
      ],
      "metadata": {
        "id": "VDdafOF5pgqZ",
        "colab": {
          "base_uri": "https://localhost:8080/"
        },
        "outputId": "c2777be3-3dfd-408e-dbd0-e7970d5a63c0"
      },
      "execution_count": 6,
      "outputs": [
        {
          "output_type": "stream",
          "name": "stdout",
          "text": [
            "Distinct rows in dataset: 1785997\n"
          ]
        }
      ]
    },
    {
      "cell_type": "code",
      "source": [
        "# Drop unnecessary columns\n",
        "video_game_data_df = video_game_data_df.drop(\"marketplace\", \"product_category\", \"verified_purchase\", \"review_headline\", \"review_body\")\n",
        "\n",
        "video_game_data_df.show()"
      ],
      "metadata": {
        "id": "4vd2PO-NcahZ",
        "colab": {
          "base_uri": "https://localhost:8080/"
        },
        "outputId": "eaccf409-7a5a-4f3c-8e4d-5cfe2cf76ef1"
      },
      "execution_count": 7,
      "outputs": [
        {
          "output_type": "stream",
          "name": "stdout",
          "text": [
            "+-----------+--------------+----------+--------------+--------------------+-----------+-------------+-----------+----+-----------+\n",
            "|customer_id|     review_id|product_id|product_parent|       product_title|star_rating|helpful_votes|total_votes|vine|review_date|\n",
            "+-----------+--------------+----------+--------------+--------------------+-----------+-------------+-----------+----+-----------+\n",
            "|   12039526| RTIS3L2M1F5SM|B001CXYMFS|     737716809|Thrustmaster T-Fl...|          5|            0|          0|   N| 2015-08-31|\n",
            "|    9636577| R1ZV7R40OLHKD|B00M920ND6|     569686175|Tonsee 6 buttons ...|          5|            0|          0|   N| 2015-08-31|\n",
            "|    2331478|R3BH071QLH8QMC|B0029CSOD2|      98937668|Hidden Mysteries:...|          1|            0|          1|   N| 2015-08-31|\n",
            "|   52495923|R127K9NTSXA2YH|B00GOOSV98|      23143350|GelTabz Performan...|          3|            0|          0|   N| 2015-08-31|\n",
            "|   14533949|R32ZWUXDJPW27Q|B00Y074JOM|     821342511|Zero Suit Samus a...|          4|            0|          0|   N| 2015-08-31|\n",
            "|    2377552|R3AQQ4YUKJWBA6|B002UBI6W6|     328764615|Psyclone Recharge...|          1|            0|          0|   N| 2015-08-31|\n",
            "|   17521011|R2F0POU5K6F73F|B008XHCLFO|      24234603|Protection for yo...|          5|            0|          0|   N| 2015-08-31|\n",
            "|   19676307|R3VNR804HYSMR6|B00BRA9R6A|     682267517|   Nerf 3DS XL Armor|          5|            0|          0|   N| 2015-08-31|\n",
            "|     224068| R3GZTM72WA2QH|B009EPWJLA|     435241890|One Piece: Pirate...|          5|            0|          0|   N| 2015-08-31|\n",
            "|   48467989| RNQOY62705W1K|B0000AV7GB|     256572651|Playstation 2 Dan...|          4|            0|          0|   N| 2015-08-31|\n",
            "|     106569|R1VTIA3JTYBY02|B00008KTNN|     384411423|Metal Arms: Glitc...|          5|            0|          0|   N| 2015-08-31|\n",
            "|   48269642|R29DOU8791QZL8|B000A3IA0Y|     472622859|72 Pin Connector ...|          1|            0|          0|   N| 2015-08-31|\n",
            "|   52738710|R15DUT1VIJ9RJZ|B0053BQN34|     577628462|uDraw Gametablet ...|          2|            0|          0|   N| 2015-08-31|\n",
            "|   10556786|R3IMF2MQ3OU9ZM|B002I0HIMI|     988218515|NBA 2K12(Covers M...|          4|            0|          0|   N| 2015-08-31|\n",
            "|    2963837|R23H79DHOZTYAU|B0081EH12M|     770100932|New Trigger Grips...|          1|            1|          1|   N| 2015-08-31|\n",
            "|   23092109| RIV24EQAIXA4O|B005FMLZQQ|      24647669|Xbox 360 Media Re...|          5|            0|          0|   N| 2015-08-31|\n",
            "|   23091728|R3UCNGYDVN24YB|B002BSA388|      33706205|Super Mario Galaxy 2|          5|            0|          0|   N| 2015-08-31|\n",
            "|   10712640| RUL4H4XTTN2DY|B00BUSLSAC|     829667834|Nintendo 3DS XL -...|          5|            0|          0|   N| 2015-08-31|\n",
            "|   17455376|R20JF7Z4DHTNX5|B00KWF38AW|     110680188|Captain Toad:  Tr...|          5|            0|          0|   N| 2015-08-31|\n",
            "|   14754850|R2T1AJ5MFI2260|B00BRQJYA8|     616463426|Lego Batman 2: DC...|          4|            0|          0|   N| 2015-08-31|\n",
            "+-----------+--------------+----------+--------------+--------------------+-----------+-------------+-----------+----+-----------+\n",
            "only showing top 20 rows\n",
            "\n"
          ]
        }
      ]
    },
    {
      "cell_type": "code",
      "source": [
        "# Find unique customer_id counts\n",
        "print(f\"Unique customer_id counts: {video_game_data_df.select('customer_id').distinct().count()}\")"
      ],
      "metadata": {
        "id": "5629B7h_cgPu",
        "colab": {
          "base_uri": "https://localhost:8080/"
        },
        "outputId": "d35fa1ae-e8c9-4540-b345-abc50a3c3c0f"
      },
      "execution_count": 8,
      "outputs": [
        {
          "output_type": "stream",
          "name": "stdout",
          "text": [
            "Unique customer_id counts: 1045733\n"
          ]
        }
      ]
    },
    {
      "cell_type": "code",
      "source": [
        "# Find instances of each customer_id\n",
        "customer_id_count_df = video_game_data_df.groupBy('customer_id').count()\n",
        "\n",
        "customer_id_count_df.show()"
      ],
      "metadata": {
        "id": "oM-T4EcWdCNM",
        "colab": {
          "base_uri": "https://localhost:8080/"
        },
        "outputId": "1453ca05-7543-485d-c69f-5dc722724b3a"
      },
      "execution_count": 9,
      "outputs": [
        {
          "output_type": "stream",
          "name": "stdout",
          "text": [
            "+-----------+-----+\n",
            "|customer_id|count|\n",
            "+-----------+-----+\n",
            "|   48670265|    1|\n",
            "|   49103216|    2|\n",
            "|    1131200|    1|\n",
            "|   43076447|    2|\n",
            "|   46261368|    1|\n",
            "|    4883305|    5|\n",
            "|   41192649|    1|\n",
            "|   40985731|    7|\n",
            "|   10437900|    2|\n",
            "|   22245671|    1|\n",
            "|    2574873|    1|\n",
            "|    4696154|    1|\n",
            "|    5621202|    1|\n",
            "|    5871933|    2|\n",
            "|   44089812|    1|\n",
            "|    2845910|    1|\n",
            "|    5274369|    1|\n",
            "|   39069693|    2|\n",
            "|     137793|    1|\n",
            "|   31914942|    3|\n",
            "+-----------+-----+\n",
            "only showing top 20 rows\n",
            "\n"
          ]
        }
      ]
    },
    {
      "cell_type": "code",
      "source": [
        "# Join count to original dataframe\n",
        "video_game_data_df = video_game_data_df.join(customer_id_count_df, video_game_data_df.customer_id == customer_id_count_df.customer_id, \"left\").drop(video_game_data_df.customer_id)\n",
        "video_game_data_df.show()"
      ],
      "metadata": {
        "id": "3wKD3wlUiCZW",
        "colab": {
          "base_uri": "https://localhost:8080/"
        },
        "outputId": "49c83370-f9bb-4ec0-98df-262ef726f530"
      },
      "execution_count": 10,
      "outputs": [
        {
          "output_type": "stream",
          "name": "stdout",
          "text": [
            "+--------------+----------+--------------+--------------------+-----------+-------------+-----------+----+-----------+-----------+-----+\n",
            "|     review_id|product_id|product_parent|       product_title|star_rating|helpful_votes|total_votes|vine|review_date|customer_id|count|\n",
            "+--------------+----------+--------------+--------------------+-----------+-------------+-----------+----+-----------+-----------+-----+\n",
            "|R1VTIA3JTYBY02|B00008KTNN|     384411423|Metal Arms: Glitc...|          5|            0|          0|   N| 2015-08-31|     106569|    1|\n",
            "|R3BH071QLH8QMC|B0029CSOD2|      98937668|Hidden Mysteries:...|          1|            0|          1|   N| 2015-08-31|    2331478|    3|\n",
            "|R3AQQ4YUKJWBA6|B002UBI6W6|     328764615|Psyclone Recharge...|          1|            0|          0|   N| 2015-08-31|    2377552|    1|\n",
            "|R23H79DHOZTYAU|B0081EH12M|     770100932|New Trigger Grips...|          1|            1|          1|   N| 2015-08-31|    2963837|    2|\n",
            "|R3IMF2MQ3OU9ZM|B002I0HIMI|     988218515|NBA 2K12(Covers M...|          4|            0|          0|   N| 2015-08-31|   10556786|    1|\n",
            "| RUL4H4XTTN2DY|B00BUSLSAC|     829667834|Nintendo 3DS XL -...|          5|            0|          0|   N| 2015-08-31|   10712640|   21|\n",
            "| RTIS3L2M1F5SM|B001CXYMFS|     737716809|Thrustmaster T-Fl...|          5|            0|          0|   N| 2015-08-31|   12039526|    1|\n",
            "|R32ZWUXDJPW27Q|B00Y074JOM|     821342511|Zero Suit Samus a...|          4|            0|          0|   N| 2015-08-31|   14533949|    7|\n",
            "| RYSSKR5ZTU8JX|B0056WJA6C|     772407903|           Bodycount|          1|            0|          0|   N| 2015-08-31|   14533949|    7|\n",
            "|R3VNR804HYSMR6|B00BRA9R6A|     682267517|   Nerf 3DS XL Armor|          5|            0|          0|   N| 2015-08-31|   19676307|    1|\n",
            "|R3UCNGYDVN24YB|B002BSA388|      33706205|Super Mario Galaxy 2|          5|            0|          0|   N| 2015-08-31|   23091728|    1|\n",
            "| RIV24EQAIXA4O|B005FMLZQQ|      24647669|Xbox 360 Media Re...|          5|            0|          0|   N| 2015-08-31|   23092109|    1|\n",
            "|R29DOU8791QZL8|B000A3IA0Y|     472622859|72 Pin Connector ...|          1|            0|          0|   N| 2015-08-31|   48269642|    1|\n",
            "| RNQOY62705W1K|B0000AV7GB|     256572651|Playstation 2 Dan...|          4|            0|          0|   N| 2015-08-31|   48467989|    1|\n",
            "|R127K9NTSXA2YH|B00GOOSV98|      23143350|GelTabz Performan...|          3|            0|          0|   N| 2015-08-31|   52495923|    2|\n",
            "| R3GZTM72WA2QH|B009EPWJLA|     435241890|One Piece: Pirate...|          5|            0|          0|   N| 2015-08-31|     224068|    3|\n",
            "| R1ZV7R40OLHKD|B00M920ND6|     569686175|Tonsee 6 buttons ...|          5|            0|          0|   N| 2015-08-31|    9636577|    1|\n",
            "|R2T1AJ5MFI2260|B00BRQJYA8|     616463426|Lego Batman 2: DC...|          4|            0|          0|   N| 2015-08-31|   14754850|    1|\n",
            "|R20JF7Z4DHTNX5|B00KWF38AW|     110680188|Captain Toad:  Tr...|          5|            0|          0|   N| 2015-08-31|   17455376|    1|\n",
            "|R2F0POU5K6F73F|B008XHCLFO|      24234603|Protection for yo...|          5|            0|          0|   N| 2015-08-31|   17521011|    2|\n",
            "+--------------+----------+--------------+--------------------+-----------+-------------+-----------+----+-----------+-----------+-----+\n",
            "only showing top 20 rows\n",
            "\n"
          ]
        }
      ]
    },
    {
      "cell_type": "code",
      "source": [
        "# Ensure rows are preserved\n",
        "print(video_game_data_df.count())"
      ],
      "metadata": {
        "id": "mVb0v3o9dleb",
        "colab": {
          "base_uri": "https://localhost:8080/"
        },
        "outputId": "dbdb99a2-4ea4-47d0-a518-7a5017402dd1"
      },
      "execution_count": 11,
      "outputs": [
        {
          "output_type": "stream",
          "name": "stdout",
          "text": [
            "1785997\n"
          ]
        }
      ]
    },
    {
      "cell_type": "code",
      "source": [
        "# Rename count column\n",
        "video_game_data_df = video_game_data_df.withColumnRenamed(\"count\", \"customer_count\")\n",
        "video_game_data_df.show()"
      ],
      "metadata": {
        "id": "Kl3fhKfYlAuM",
        "colab": {
          "base_uri": "https://localhost:8080/"
        },
        "outputId": "1e3ca31e-bfe8-4369-d9e8-5f34da8478df"
      },
      "execution_count": 12,
      "outputs": [
        {
          "output_type": "stream",
          "name": "stdout",
          "text": [
            "+--------------+----------+--------------+--------------------+-----------+-------------+-----------+----+-----------+-----------+--------------+\n",
            "|     review_id|product_id|product_parent|       product_title|star_rating|helpful_votes|total_votes|vine|review_date|customer_id|customer_count|\n",
            "+--------------+----------+--------------+--------------------+-----------+-------------+-----------+----+-----------+-----------+--------------+\n",
            "|R1VTIA3JTYBY02|B00008KTNN|     384411423|Metal Arms: Glitc...|          5|            0|          0|   N| 2015-08-31|     106569|             1|\n",
            "|R3BH071QLH8QMC|B0029CSOD2|      98937668|Hidden Mysteries:...|          1|            0|          1|   N| 2015-08-31|    2331478|             3|\n",
            "|R3AQQ4YUKJWBA6|B002UBI6W6|     328764615|Psyclone Recharge...|          1|            0|          0|   N| 2015-08-31|    2377552|             1|\n",
            "|R23H79DHOZTYAU|B0081EH12M|     770100932|New Trigger Grips...|          1|            1|          1|   N| 2015-08-31|    2963837|             2|\n",
            "|R3IMF2MQ3OU9ZM|B002I0HIMI|     988218515|NBA 2K12(Covers M...|          4|            0|          0|   N| 2015-08-31|   10556786|             1|\n",
            "| RUL4H4XTTN2DY|B00BUSLSAC|     829667834|Nintendo 3DS XL -...|          5|            0|          0|   N| 2015-08-31|   10712640|            21|\n",
            "| RTIS3L2M1F5SM|B001CXYMFS|     737716809|Thrustmaster T-Fl...|          5|            0|          0|   N| 2015-08-31|   12039526|             1|\n",
            "|R32ZWUXDJPW27Q|B00Y074JOM|     821342511|Zero Suit Samus a...|          4|            0|          0|   N| 2015-08-31|   14533949|             7|\n",
            "| RYSSKR5ZTU8JX|B0056WJA6C|     772407903|           Bodycount|          1|            0|          0|   N| 2015-08-31|   14533949|             7|\n",
            "|R3VNR804HYSMR6|B00BRA9R6A|     682267517|   Nerf 3DS XL Armor|          5|            0|          0|   N| 2015-08-31|   19676307|             1|\n",
            "|R3UCNGYDVN24YB|B002BSA388|      33706205|Super Mario Galaxy 2|          5|            0|          0|   N| 2015-08-31|   23091728|             1|\n",
            "| RIV24EQAIXA4O|B005FMLZQQ|      24647669|Xbox 360 Media Re...|          5|            0|          0|   N| 2015-08-31|   23092109|             1|\n",
            "|R29DOU8791QZL8|B000A3IA0Y|     472622859|72 Pin Connector ...|          1|            0|          0|   N| 2015-08-31|   48269642|             1|\n",
            "| RNQOY62705W1K|B0000AV7GB|     256572651|Playstation 2 Dan...|          4|            0|          0|   N| 2015-08-31|   48467989|             1|\n",
            "|R127K9NTSXA2YH|B00GOOSV98|      23143350|GelTabz Performan...|          3|            0|          0|   N| 2015-08-31|   52495923|             2|\n",
            "| R3GZTM72WA2QH|B009EPWJLA|     435241890|One Piece: Pirate...|          5|            0|          0|   N| 2015-08-31|     224068|             3|\n",
            "| R1ZV7R40OLHKD|B00M920ND6|     569686175|Tonsee 6 buttons ...|          5|            0|          0|   N| 2015-08-31|    9636577|             1|\n",
            "|R2T1AJ5MFI2260|B00BRQJYA8|     616463426|Lego Batman 2: DC...|          4|            0|          0|   N| 2015-08-31|   14754850|             1|\n",
            "|R20JF7Z4DHTNX5|B00KWF38AW|     110680188|Captain Toad:  Tr...|          5|            0|          0|   N| 2015-08-31|   17455376|             1|\n",
            "|R2F0POU5K6F73F|B008XHCLFO|      24234603|Protection for yo...|          5|            0|          0|   N| 2015-08-31|   17521011|             2|\n",
            "+--------------+----------+--------------+--------------------+-----------+-------------+-----------+----+-----------+-----------+--------------+\n",
            "only showing top 20 rows\n",
            "\n"
          ]
        }
      ]
    },
    {
      "cell_type": "code",
      "source": [
        "# Check data types\n",
        "video_game_data_df.printSchema()"
      ],
      "metadata": {
        "id": "s_z3FzsioYfG",
        "colab": {
          "base_uri": "https://localhost:8080/"
        },
        "outputId": "ec4131a1-d25d-4b0d-a272-1befdf490b6b"
      },
      "execution_count": 13,
      "outputs": [
        {
          "output_type": "stream",
          "name": "stdout",
          "text": [
            "root\n",
            " |-- review_id: string (nullable = true)\n",
            " |-- product_id: string (nullable = true)\n",
            " |-- product_parent: integer (nullable = true)\n",
            " |-- product_title: string (nullable = true)\n",
            " |-- star_rating: integer (nullable = true)\n",
            " |-- helpful_votes: integer (nullable = true)\n",
            " |-- total_votes: integer (nullable = true)\n",
            " |-- vine: string (nullable = true)\n",
            " |-- review_date: string (nullable = true)\n",
            " |-- customer_id: integer (nullable = true)\n",
            " |-- customer_count: long (nullable = true)\n",
            "\n"
          ]
        }
      ]
    },
    {
      "cell_type": "code",
      "source": [
        "from pyspark.sql.functions import to_date\n",
        "\n",
        "# Cast customer_count to integer and review_date to date\n",
        "video_game_data_df = video_game_data_df.withColumn(\"customer_count\", video_game_data_df.customer_count.cast(\"integer\"))\n",
        "video_game_data_df = video_game_data_df.withColumn(\"review_date\", video_game_data_df.review_date.cast(\"date\"))\n",
        "\n",
        "video_game_data_df.printSchema()"
      ],
      "metadata": {
        "id": "PPX00ReErkMy",
        "colab": {
          "base_uri": "https://localhost:8080/"
        },
        "outputId": "ab9c2579-d50e-44fe-9c44-0e71aa11a9ce"
      },
      "execution_count": 27,
      "outputs": [
        {
          "output_type": "stream",
          "name": "stdout",
          "text": [
            "root\n",
            " |-- review_id: string (nullable = true)\n",
            " |-- product_id: string (nullable = true)\n",
            " |-- product_parent: integer (nullable = true)\n",
            " |-- product_title: string (nullable = true)\n",
            " |-- star_rating: integer (nullable = true)\n",
            " |-- helpful_votes: integer (nullable = true)\n",
            " |-- total_votes: integer (nullable = true)\n",
            " |-- vine: string (nullable = true)\n",
            " |-- review_date: date (nullable = true)\n",
            " |-- customer_id: integer (nullable = true)\n",
            " |-- customer_count: integer (nullable = true)\n",
            "\n"
          ]
        }
      ]
    },
    {
      "cell_type": "code",
      "source": [
        "# Create review_id dataframe for review_id_table in our database\n",
        "review_id_df = video_game_data_df.select(['review_id', 'customer_id', 'product_id', 'product_parent', 'review_date']).dropDuplicates()\n",
        "review_id_df.show() "
      ],
      "metadata": {
        "id": "OeEfKGaksRzS",
        "colab": {
          "base_uri": "https://localhost:8080/"
        },
        "outputId": "53e739d5-701b-42a5-94db-01edb6365db4"
      },
      "execution_count": 28,
      "outputs": [
        {
          "output_type": "stream",
          "name": "stdout",
          "text": [
            "+--------------+-----------+----------+--------------+-----------+\n",
            "|     review_id|customer_id|product_id|product_parent|review_date|\n",
            "+--------------+-----------+----------+--------------+-----------+\n",
            "|R1VTIA3JTYBY02|     106569|B00008KTNN|     384411423| 2015-08-31|\n",
            "|R3BH071QLH8QMC|    2331478|B0029CSOD2|      98937668| 2015-08-31|\n",
            "|R3AQQ4YUKJWBA6|    2377552|B002UBI6W6|     328764615| 2015-08-31|\n",
            "|R23H79DHOZTYAU|    2963837|B0081EH12M|     770100932| 2015-08-31|\n",
            "|R3IMF2MQ3OU9ZM|   10556786|B002I0HIMI|     988218515| 2015-08-31|\n",
            "| RUL4H4XTTN2DY|   10712640|B00BUSLSAC|     829667834| 2015-08-31|\n",
            "| RTIS3L2M1F5SM|   12039526|B001CXYMFS|     737716809| 2015-08-31|\n",
            "|R32ZWUXDJPW27Q|   14533949|B00Y074JOM|     821342511| 2015-08-31|\n",
            "| RYSSKR5ZTU8JX|   14533949|B0056WJA6C|     772407903| 2015-08-31|\n",
            "|R3VNR804HYSMR6|   19676307|B00BRA9R6A|     682267517| 2015-08-31|\n",
            "|R3UCNGYDVN24YB|   23091728|B002BSA388|      33706205| 2015-08-31|\n",
            "| RIV24EQAIXA4O|   23092109|B005FMLZQQ|      24647669| 2015-08-31|\n",
            "|R29DOU8791QZL8|   48269642|B000A3IA0Y|     472622859| 2015-08-31|\n",
            "| RNQOY62705W1K|   48467989|B0000AV7GB|     256572651| 2015-08-31|\n",
            "|R127K9NTSXA2YH|   52495923|B00GOOSV98|      23143350| 2015-08-31|\n",
            "| R3GZTM72WA2QH|     224068|B009EPWJLA|     435241890| 2015-08-31|\n",
            "| R1ZV7R40OLHKD|    9636577|B00M920ND6|     569686175| 2015-08-31|\n",
            "|R2T1AJ5MFI2260|   14754850|B00BRQJYA8|     616463426| 2015-08-31|\n",
            "|R20JF7Z4DHTNX5|   17455376|B00KWF38AW|     110680188| 2015-08-31|\n",
            "|R2F0POU5K6F73F|   17521011|B008XHCLFO|      24234603| 2015-08-31|\n",
            "+--------------+-----------+----------+--------------+-----------+\n",
            "only showing top 20 rows\n",
            "\n"
          ]
        }
      ]
    },
    {
      "cell_type": "code",
      "source": [
        "# Create products dataframe for products in our database\n",
        "products_df = video_game_data_df.select(['product_id', 'product_title']).dropDuplicates()\n",
        "products_df.show()"
      ],
      "metadata": {
        "id": "UPdUrcDMuZN7",
        "colab": {
          "base_uri": "https://localhost:8080/"
        },
        "outputId": "450caba4-a598-4b7e-9d42-d95dc995c7e4"
      },
      "execution_count": 36,
      "outputs": [
        {
          "output_type": "stream",
          "name": "stdout",
          "text": [
            "+----------+--------------------+\n",
            "|product_id|       product_title|\n",
            "+----------+--------------------+\n",
            "|B00CJ7IUI6|The Elder Scrolls...|\n",
            "|B00DHF39KS|Wolfenstein: The ...|\n",
            "|B00MUTAVH6|Under Night In-Bi...|\n",
            "|B001AZSEUW|              Peggle|\n",
            "|B00KVOVBGM|PlayStation 4 Con...|\n",
            "|B00O9VGH4Y|USPRO&reg; Headph...|\n",
            "|B004OQNZY4|Phineas and Ferb:...|\n",
            "|B00ZLN980O|Donop seablue 2.4...|\n",
            "|B002L8W5V6|Dotop Nintendo Ga...|\n",
            "|B007AJZ5PY|Nyko Game Case fo...|\n",
            "|B000AOEU2K|Fire Emblem: Path...|\n",
            "|B000H8BW7U|Tanarus (PC) (Com...|\n",
            "|B013RADQOQ|Susenstone® 2400D...|\n",
            "|B00KQXKUJ2|FIFA 15 (Ultimate...|\n",
            "|B006W41X2C|Turtle Beach - Ea...|\n",
            "|B000KCX9M4|Grand Theft Auto:...|\n",
            "|B00YT90JWC|Red Wii Mini Cons...|\n",
            "|B0096KG6A8|Wii U Super Mario...|\n",
            "|B00L6AVLB0|World of Tanks-X3...|\n",
            "|B000IMYKQ0|Wii Nunchuk Contr...|\n",
            "+----------+--------------------+\n",
            "only showing top 20 rows\n",
            "\n"
          ]
        }
      ]
    },
    {
      "cell_type": "code",
      "source": [
        "# Create customers dataframe for customers in our database\n",
        "customers_df = video_game_data_df.select(['customer_id', 'customer_count']).dropDuplicates()\n",
        "customers_df.show()"
      ],
      "metadata": {
        "id": "yNwunp_4u-a7",
        "colab": {
          "base_uri": "https://localhost:8080/"
        },
        "outputId": "ed77cc47-2405-4921-89bb-de5f451880bd"
      },
      "execution_count": 37,
      "outputs": [
        {
          "output_type": "stream",
          "name": "stdout",
          "text": [
            "+-----------+--------------+\n",
            "|customer_id|customer_count|\n",
            "+-----------+--------------+\n",
            "|      29729|             1|\n",
            "|      32425|             1|\n",
            "|      40514|             1|\n",
            "|      45296|             1|\n",
            "|     114975|             1|\n",
            "|     142548|             1|\n",
            "|     151483|             1|\n",
            "|     205332|             1|\n",
            "|     216607|             2|\n",
            "|     218299|             1|\n",
            "|     249348|             1|\n",
            "|     336579|             5|\n",
            "|     356945|             1|\n",
            "|     359165|             1|\n",
            "|     397913|             1|\n",
            "|     416821|             1|\n",
            "|     439110|             1|\n",
            "|     452688|             1|\n",
            "|     453816|             1|\n",
            "|     462852|             1|\n",
            "+-----------+--------------+\n",
            "only showing top 20 rows\n",
            "\n"
          ]
        }
      ]
    },
    {
      "cell_type": "code",
      "source": [
        "# Create vine dataframe for vine_table in our database\n",
        "vine_df = video_game_data_df.select(['review_id', 'star_rating', 'helpful_votes', 'total_votes', 'vine']).dropDuplicates()\n",
        "vine_df.show()"
      ],
      "metadata": {
        "id": "Co3Fm3cMvUKM",
        "colab": {
          "base_uri": "https://localhost:8080/"
        },
        "outputId": "501e580d-8f6c-4a14-a13a-e4740a5b1ae0"
      },
      "execution_count": 38,
      "outputs": [
        {
          "output_type": "stream",
          "name": "stdout",
          "text": [
            "+--------------+-----------+-------------+-----------+----+\n",
            "|     review_id|star_rating|helpful_votes|total_votes|vine|\n",
            "+--------------+-----------+-------------+-----------+----+\n",
            "|R3W4IGRLNNQQPJ|          5|            1|          2|   N|\n",
            "|R2FELCCWC4WUN3|          2|            1|          2|   N|\n",
            "| RWYBKIHH0PW3G|          5|            0|          0|   N|\n",
            "|R1PHVNSJTOBMWA|          4|            1|          2|   N|\n",
            "|R335T8QW18YMBM|          1|            1|          6|   N|\n",
            "|R15DME2AFFQ9OF|          5|            0|          1|   N|\n",
            "|R29KPQZ5CZ6RLQ|          4|            0|          0|   N|\n",
            "|R1BRJ8INCYO12T|          4|            0|          0|   N|\n",
            "|R2K3WYZAIE1UTY|          5|            0|          0|   N|\n",
            "|R2MWEZX26CSTMC|          5|            0|          0|   N|\n",
            "| RQ49W9KYMN4JJ|          5|            0|          0|   N|\n",
            "|R2M9SFYH6AJSJP|          5|            0|          0|   N|\n",
            "|R28CK7LMIQSJ7L|          5|            0|          0|   N|\n",
            "|R130QQG2TNMI6B|          5|            0|          0|   N|\n",
            "| RAGAOWUOD4XBU|          5|            0|          0|   N|\n",
            "| RCRO3L0GTVQWZ|          5|            0|          1|   N|\n",
            "|R1YSE6U6HORWL8|          5|            0|          0|   N|\n",
            "|R2K0G2ARJ2XWDJ|          5|            0|          0|   N|\n",
            "|R3MZEE1KBR2WSZ|          5|            0|          0|   N|\n",
            "|R23X7E5X5RICC4|          5|            0|          0|   N|\n",
            "+--------------+-----------+-------------+-----------+----+\n",
            "only showing top 20 rows\n",
            "\n"
          ]
        }
      ]
    },
    {
      "cell_type": "markdown",
      "source": [
        "# Load Data"
      ],
      "metadata": {
        "id": "uw0i5hIovz_w"
      }
    },
    {
      "cell_type": "code",
      "source": [
        "# Fill out aws fields\n",
        "my_aws_endpoint = ''\n",
        "my_aws_port_number = '5432'\n",
        "my_aws_database_name = 'amazon_big_data_db'\n",
        "my_aws_username = 'postgres'\n",
        "my_aws_password = ''"
      ],
      "metadata": {
        "id": "PLitXhgQxMMb"
      },
      "execution_count": 32,
      "outputs": []
    },
    {
      "cell_type": "code",
      "source": [
        "# Define the connection string\n",
        "jdbc_url=f'jdbc:postgresql://{my_aws_endpoint}:{my_aws_port_number}/{my_aws_database_name}'\n",
        "\n",
        "# Set up the configuration parameters\n",
        "config = {\"user\": f'{my_aws_username}', \n",
        "          \"password\": f'{my_aws_password}', \n",
        "          \"driver\":\"org.postgresql.Driver\"}\n",
        "\n",
        "# Choose to append the data\n",
        "mode = 'append'"
      ],
      "metadata": {
        "id": "u45EsrgjyN8q"
      },
      "execution_count": 33,
      "outputs": []
    },
    {
      "cell_type": "code",
      "source": [
        "# Write the dataframe to the appropriate table in our PostgreSQL RDS\n",
        "\n",
        "review_id_df.write.jdbc(url=jdbc_url, table='review_id_table', mode=mode, properties=config)"
      ],
      "metadata": {
        "id": "TmYL9u30yqnm"
      },
      "execution_count": 34,
      "outputs": []
    },
    {
      "cell_type": "code",
      "source": [
        "# Write the dataframe to the appropriate table in our PostgreSQL RDS\n",
        "\n",
        "products_df.write.jdbc(url=jdbc_url, table='products', mode=mode, properties=config)"
      ],
      "metadata": {
        "id": "0DHZJL1fzeOK"
      },
      "execution_count": 39,
      "outputs": []
    },
    {
      "cell_type": "code",
      "source": [
        "# Write the dataframe to the appropriate table in our PostgreSQL RDS\n",
        "\n",
        "customers_df.write.jdbc(url=jdbc_url, table='customers', mode=mode, properties=config)"
      ],
      "metadata": {
        "id": "ARMRugjckzMs"
      },
      "execution_count": 40,
      "outputs": []
    },
    {
      "cell_type": "code",
      "source": [
        "# Write the dataframe to the appropriate table in our PostgreSQL RDS\n",
        "\n",
        "vine_df.write.jdbc(url=jdbc_url, table='vine_table', mode=mode, properties=config)"
      ],
      "metadata": {
        "id": "dg7tStoUl7JQ"
      },
      "execution_count": 41,
      "outputs": []
    }
  ]
}